{
  "cells": [
    {
      "cell_type": "markdown",
      "id": "a71f466b",
      "metadata": {
        "id": "a71f466b"
      },
      "source": [
        "# Time Series Analysis\n",
        "\n",
        "This notebook contains code and explanations for time series analysis, including data loading, stationarity tests, differencing, transformations and ARMA model fitting."
      ]
    },
    {
      "cell_type": "markdown",
      "id": "9f91be11",
      "metadata": {
        "id": "9f91be11"
      },
      "source": [
        "## Chapter 1\n",
        "\n",
        "### Importing Required Libraries"
      ]
    },
    {
      "cell_type": "code",
      "execution_count": null,
      "id": "e2134c34",
      "metadata": {
        "id": "e2134c34"
      },
      "outputs": [],
      "source": [
        "# Import modules\n",
        "import pandas as pd\n",
        "import matplotlib.pyplot as plt"
      ]
    },
    {
      "cell_type": "markdown",
      "id": "299026e4",
      "metadata": {
        "id": "299026e4"
      },
      "source": [
        "### Loading the Candy Production Time Series Data"
      ]
    },
    {
      "cell_type": "code",
      "execution_count": null,
      "id": "47d55e1e",
      "metadata": {
        "id": "47d55e1e"
      },
      "outputs": [],
      "source": [
        "# Load in the time series\n",
        "candy = pd.read_csv('candy_production.csv',\n",
        "                 index_col='date',\n",
        "                 parse_dates=True)"
      ]
    },
    {
      "cell_type": "markdown",
      "id": "bb0cc3ae",
      "metadata": {
        "id": "bb0cc3ae"
      },
      "source": [
        "### Plotting the Time Series"
      ]
    },
    {
      "cell_type": "code",
      "execution_count": null,
      "id": "adf76bbb",
      "metadata": {
        "id": "adf76bbb"
      },
      "outputs": [],
      "source": [
        "# Plot and show the time series on axis ax1\n",
        "fig, ax1 = plt.subplots()\n",
        "candy.plot(ax=ax1)\n",
        "plt.show()"
      ]
    },
    {
      "cell_type": "markdown",
      "id": "7cec8c9e",
      "metadata": {
        "id": "7cec8c9e"
      },
      "source": [
        "### Splitting Data into Train and Test Sets"
      ]
    },
    {
      "cell_type": "code",
      "execution_count": null,
      "id": "da723fd2",
      "metadata": {
        "id": "da723fd2"
      },
      "outputs": [],
      "source": [
        "# Split the data into a train and test set\n",
        "candy_train = candy.loc[:'2006']\n",
        "candy_test = candy.loc['2007':]\n",
        "\n",
        "# Create an axis\n",
        "fig, ax = plt.subplots()\n",
        "\n",
        "# Plot the train and test sets on the axis ax\n",
        "candy_train.plot(ax=ax)\n",
        "candy_test.plot(ax=ax)\n",
        "plt.show()"
      ]
    },
    {
      "cell_type": "markdown",
      "id": "a3f1cbde",
      "metadata": {
        "id": "a3f1cbde"
      },
      "source": [
        "## Checking for Stationarity\n",
        "\n",
        "Identifying whether a time series is stationary or non-stationary is very important. If it is stationary you can use ARMA models to predict the next values of the time series. If it is non-stationary then you cannot use ARMA models, however, as you will see in the next lesson, you can often transform non-stationary time series to stationary ones.\n",
        "\n",
        "In this exercise you will examine some stock and earthquake data sets in order to identify which are ready for ARMA modeling, and which will need further work to make them stationary.\n"
      ]
    },
    {
      "cell_type": "markdown",
      "id": "77cea315",
      "metadata": {
        "id": "77cea315"
      },
      "source": [
        "### Augmented Dicky-Fuller Test on Earthquakes Time Series\n",
        "\n",
        "In this exercise you will run the augmented Dicky-Fuller test on the earthquakes time series to test for stationarity. You plotted this time series in the last exercise. It looked like it could be stationary, but earthquakes are very damaging. If you want to make predictions about them you better be sure.\n",
        "\n",
        "Remember that if it were not stationary this would mean that the number of earthquakes per year has a trend and is changing. This would be terrible news if it is trending upwards, as it means more damage. It would also be terrible news if it were trending downwards, it might suggest the core of our planet is changing and this could have lots of knock on effects for us!\n",
        "Import the augmented Dicky-Fuller function adfuller() from statsmodels.\n",
        "Run the adfuller() function on the 'earthquakes_per_year' column of the earthquake DataFrame and assign the result to result.\n",
        "Print the test statistic, the p-value and the critical values.\n",
        "\n",
        "The adfuller() function is found within statsmodels.tsa.stattools.\n",
        "You need to pass a pandas series to the adfuller() function.\n",
        "Try printing all of result. The test statistic should be a negative number, the p-value should be between 0 and 1 and the critical values are in a dictionary."
      ]
    },
    {
      "cell_type": "code",
      "execution_count": null,
      "id": "39a963d9",
      "metadata": {
        "id": "39a963d9"
      },
      "outputs": [],
      "source": [
        "# Import augmented dicky-fuller test function\n",
        "from statsmodels.tsa.stattools import adfuller\n",
        "\n",
        "# Run test\n",
        "result = adfuller(earthquake['earthquakes_per_year'])\n",
        "\n",
        "# Print test statistic\n",
        "print(result[0])\n",
        "\n",
        "# Print p-value\n",
        "print(result[1])\n",
        "\n",
        "# Print critical values\n",
        "print(result[4])"
      ]
    },
    {
      "cell_type": "markdown",
      "id": "73bf23e6",
      "metadata": {
        "id": "73bf23e6"
      },
      "source": [
        "### Augmented Dicky-Fuller Test on City Population Time Series\n",
        "\n",
        "In this exercise, you will to prepare a time series of the population of a city for modeling. If you could predict the growth rate of a city then it would be possible to plan and build the infrastructure that the city will need later, thus future-proofing public spending. In this case the time series is fictitious but its perfect to practice on.\n",
        "\n",
        "You will test for stationarity by eye and use the Augmented Dicky-Fuller test, and take the difference to make the dataset stationary."
      ]
    },
    {
      "cell_type": "code",
      "execution_count": null,
      "id": "29875d33",
      "metadata": {
        "id": "29875d33"
      },
      "outputs": [],
      "source": [
        "# Run the ADF test on the time series\n",
        "result = adfuller(city['city_population'])\n",
        "\n",
        "# Plot the time series\n",
        "fig, ax = plt.subplots()\n",
        "city.plot(ax=ax)\n",
        "plt.show()\n",
        "\n",
        "# Print the test statistic and the p-value\n",
        "print('ADF Statistic:', result[0])\n",
        "print('p-value:', result[1])"
      ]
    },
    {
      "cell_type": "markdown",
      "id": "07fdc1e2",
      "metadata": {
        "id": "07fdc1e2"
      },
      "source": [
        "### Taking the First Difference"
      ]
    },
    {
      "cell_type": "code",
      "execution_count": null,
      "id": "61f6ad88",
      "metadata": {
        "id": "61f6ad88"
      },
      "outputs": [],
      "source": [
        "# Calculate the first difference of the time series\n",
        "city_stationary = city.diff().dropna()\n",
        "\n",
        "# Run ADF test on the differenced time series\n",
        "result = adfuller(city_stationary['city_population'])\n",
        "\n",
        "# Plot the differenced time series\n",
        "fig, ax = plt.subplots()\n",
        "city_stationary.plot(ax=ax)\n",
        "plt.show()\n",
        "\n",
        "# Print the test statistic and the p-value\n",
        "print('ADF Statistic:', result[0])\n",
        "print('p-value:', result[1])"
      ]
    },
    {
      "cell_type": "markdown",
      "id": "1e917176",
      "metadata": {
        "id": "1e917176"
      },
      "source": [
        "### Taking the Second Difference"
      ]
    },
    {
      "cell_type": "code",
      "execution_count": null,
      "id": "0b811003",
      "metadata": {
        "id": "0b811003"
      },
      "outputs": [],
      "source": [
        "# Calculate the second difference of the time series\n",
        "city_stationary = city.diff().diff().dropna()\n",
        "\n",
        "# Run ADF test on the differenced time series\n",
        "result = adfuller(city_stationary['city_population'])\n",
        "\n",
        "# Plot the differenced time series\n",
        "fig, ax = plt.subplots()\n",
        "city_stationary.plot(ax=ax)\n",
        "plt.show()\n",
        "\n",
        "# Print the test statistic and the p-value\n",
        "print('ADF Statistic:', result[0])\n",
        "print('p-value:', result[1])"
      ]
    },
    {
      "cell_type": "markdown",
      "id": "e1bff646",
      "metadata": {
        "id": "e1bff646"
      },
      "source": [
        "## Other Transformations\n",
        "\n",
        "Differencing should be the first transform you try to make a time series stationary. But sometimes it isn't the best option.\n",
        "\n",
        "A classic way of transforming stock time series is the log-return of the series\n",
        "\n",
        "The Amazon stock time series has already been loaded for you as amazon. You can calculate the log-return of this DataFrame by substituting:\n",
        "\n",
        " amazon\n",
        " amazon.shift(1)\n",
        " np.log()\n",
        "In this exercise you will compare the log-return transform and the first order difference of the Amazon stock time series to find which is better for making the time series stationary.\n",
        "\n",
        "Calculate the first difference of the time series amazon to test for stationarity and drop the NaNs.\n",
        "\n",
        "Model order\n",
        "When fitting and working with AR, MA and ARMA models it is very important to understand the model order. You will need to pick the model order when fitting. Picking this correctly will give you a better fitting model which makes better predictions. So in this section you will practice working with model order.\n"
      ]
    },
    {
      "cell_type": "markdown",
      "id": "4fe0caa6",
      "metadata": {
        "id": "4fe0caa6"
      },
      "source": [
        "### Comparing First Difference and Log-Return Transformations"
      ]
    },
    {
      "cell_type": "code",
      "execution_count": null,
      "id": "714589ec",
      "metadata": {
        "id": "714589ec"
      },
      "outputs": [],
      "source": [
        "import numpy as np\n",
        "\n",
        "# Calculate the first difference and drop the nans\n",
        "amazon_diff = amazon.diff()\n",
        "amazon_diff = amazon_diff.dropna()\n",
        "\n",
        "# Run test and print\n",
        "result_diff = adfuller(amazon_diff['close'])\n",
        "print(result_diff)\n",
        "\n",
        "# Calculate log-return and drop nans\n",
        "amazon_log = np.log(amazon/amazon.shift(1))\n",
        "amazon_log = amazon_log.dropna()\n",
        "\n",
        "# Run test and print\n",
        "result_log = adfuller(amazon_log['close'])\n",
        "print(result_log)"
      ]
    },
    {
      "cell_type": "markdown",
      "id": "dcd42752",
      "metadata": {
        "id": "dcd42752"
      },
      "source": [
        "## Generating ARMA Data\n",
        "\n",
        "In this exercise you will generate 100 days worth of AR/MA/ARMA data. Remember that in the real world applications, this data could be changes in Google stock prices, the energy requirements of New York City, or the number of cases of flu.\n",
        "\n",
        "You can use the arma_generate_sample() function available in your workspace to generate time series using different AR and MA coefficients.\n",
        "\n",
        "Remember for any model ARMA(p,q):\n",
        "\n",
        "The list ar_coefs has the form [1, -a_1, -a_2, ..., -a_p].\n",
        "The list ma_coefs has the form [1, m_1, m_2, ..., m_q],\n",
        "where a_i are the lag-i AR coefficients and m_j are the lag-j MA coefficients.\n",
        "\n",
        "Set ar_coefs and ma_coefs for an MA(1) model with MA lag-1 coefficient of -0.7.\n",
        "Generate a time series of 100 values.\n",
        "\n",
        "Remember that the first value of each of the ar_coefs and ma_coefs lists should be 1 for the lag-0 coefficient.\n",
        "Remember that an MA(1) model is just an ARMA(0,1) model. Therefore ma_coefs should have a lag-0 and a lag-1 coefficient and ar_coefs should only have a lag-0 coefficient and nothing else (e.g. ma_coefs = [1, ____] and ar_coefs = [1]).\n"
      ]
    },
    {
      "cell_type": "markdown",
      "id": "7d8b8b05",
      "metadata": {
        "id": "7d8b8b05"
      },
      "source": [
        "### Generating MA(1) Data"
      ]
    },
    {
      "cell_type": "code",
      "execution_count": null,
      "id": "d6716b7b",
      "metadata": {
        "id": "d6716b7b"
      },
      "outputs": [],
      "source": [
        "# Import data generation function and set random seed\n",
        "from statsmodels.tsa.arima_process import arma_generate_sample\n",
        "np.random.seed(1)\n",
        "\n",
        "# Set coefficients\n",
        "ar_coefs = [1]\n",
        "ma_coefs = [1, -0.7]\n",
        "\n",
        "# Generate data\n",
        "y = arma_generate_sample(ar_coefs, ma_coefs, nsample=100, scale=0.5)\n",
        "\n",
        "plt.plot(y)\n",
        "plt.ylabel(r'$y_t$')\n",
        "plt.xlabel(r'$t$')\n",
        "plt.show()"
      ]
    },
    {
      "cell_type": "markdown",
      "id": "e9d02af6",
      "metadata": {
        "id": "e9d02af6"
      },
      "source": [
        "### Generating AR(2) Data\n",
        "\n",
        "Set the coefficients for an AR(2) model with AR lag-1 and lag-2 coefficients of 0.3 and 0.2 respectively.\n"
      ]
    },
    {
      "cell_type": "code",
      "execution_count": null,
      "id": "6fcf06c3",
      "metadata": {
        "id": "6fcf06c3"
      },
      "outputs": [],
      "source": [
        "# Import data generation function and set random seed\n",
        "np.random.seed(2)\n",
        "\n",
        "# Set coefficients\n",
        "ar_coefs = [1, -0.3, -0.2]\n",
        "ma_coefs = [1]\n",
        "\n",
        "# Generate data\n",
        "y = arma_generate_sample(ar_coefs, ma_coefs, nsample=100, scale=0.5)\n",
        "\n",
        "plt.plot(y)\n",
        "plt.ylabel(r'$y_t$')\n",
        "plt.xlabel(r'$t$')\n",
        "plt.show()"
      ]
    },
    {
      "cell_type": "markdown",
      "id": "f7a8467e",
      "metadata": {
        "id": "f7a8467e"
      },
      "source": [
        "### Generating ARMA(1,2) Data\n",
        "\n",
        "Set the coefficients for a model with form\n",
        "Remember that the lag-i AR coefficient is used to multiply . The lag-j MA coefficient is used to multiply .\n",
        "Don't forget to set the lag-0 coefficients to 1.\n",
        "Remember that for lags greater than zero, you need to pass the negative of the desired AR coefficient into the arma_generate_sample() function."
      ]
    },
    {
      "cell_type": "code",
      "execution_count": null,
      "id": "d7fc6021",
      "metadata": {
        "id": "d7fc6021"
      },
      "outputs": [],
      "source": [
        "# Import data generation function and set random seed\n",
        "np.random.seed(3)\n",
        "\n",
        "# Set coefficients\n",
        "ar_coefs = [1, 0.2]\n",
        "ma_coefs = [1, 0.3, 0.4]\n",
        "\n",
        "# Generate data\n",
        "y = arma_generate_sample(ar_coefs, ma_coefs, nsample=100, scale=0.5)\n",
        "\n",
        "plt.plot(y)\n",
        "plt.ylabel(r'$y_t$')\n",
        "plt.xlabel(r'$t$')\n",
        "plt.show()"
      ]
    },
    {
      "cell_type": "markdown",
      "id": "0e31a4e9",
      "metadata": {
        "id": "0e31a4e9"
      },
      "source": [
        "## Fitting an ARMA Model\n",
        "\n",
        "Great, you understand model order! Understanding the order is important when it comes to fitting models. You will always need to select the order of model you fit to your data, no matter what that data is.\n",
        "\n",
        "In this exercise you will do some basic fitting. Fitting models is the next key step towards making predictions. We'll go into this more in the next chapter but let's get a head start.\n",
        "\n",
        "Some example ARMA(1,1) data have been created and are available in your environment as y. This data could represent the amount of traffic congestion. You could use forecasts of this to suggest the efficient routes for drivers.\n",
        "\n",
        "Import the ARMA model class from the statsmodels.tsa.arima_model submodule.\n",
        "Create a model object, passing it the time series y and the model order (1,1). Assign this to the variable model.\n",
        "Use the model's .fit() method to fit to the data."
      ]
    },
    {
      "cell_type": "markdown",
      "id": "103c7046",
      "metadata": {
        "id": "103c7046"
      },
      "source": [
        "### Fitting an ARMA(1,1) Model"
      ]
    },
    {
      "cell_type": "code",
      "execution_count": null,
      "id": "49e59222",
      "metadata": {
        "id": "49e59222"
      },
      "outputs": [],
      "source": [
        "# Import the ARMA model\n",
        "from statsmodels.tsa.arima.model import ARMA\n",
        "\n",
        "# Instantiate the model\n",
        "model = ARMA(y, order=(1,1))\n",
        "\n",
        "# Fit the model\n",
        "results = model.fit()"
      ]
    }
  ],
  "metadata": {
    "colab": {
      "provenance": []
    }
  },
  "nbformat": 4,
  "nbformat_minor": 5
}
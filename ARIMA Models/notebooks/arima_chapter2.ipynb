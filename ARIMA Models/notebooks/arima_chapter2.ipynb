{
  "cells": [
    {
      "cell_type": "markdown",
      "id": "b2ce4667",
      "metadata": {
        "id": "b2ce4667"
      },
      "source": [
        "# Chapter 2 Time Series Analysis: AR, MA, ARMA, ARMAX, ARIMA Models\n",
        "\n",
        "This notebook contains exercises related to fitting different time series models including AR, MA, ARMA, ARMAX, and ARIMA.\n",
        "Each section contains explanations and code cells to perform the required tasks.\n",
        "\n",
        "---\n"
      ]
    },
    {
      "cell_type": "markdown",
      "id": "39f2362f",
      "metadata": {
        "id": "39f2362f"
      },
      "source": [
        "## Fitting AR and MA Models"
      ]
    },
    {
      "cell_type": "markdown",
      "id": "4818c7c6",
      "metadata": {
        "id": "4818c7c6"
      },
      "source": [
        "In this exercise you will fit an AR and an MA model to some data. The data here has been generated using the `arma_generate_sample()` function.\n",
        "\n",
        "You know the real AR and MA parameters used to create this data so it is a really good way to gain some confidence with ARMA models.\n",
        "\n",
        "Fit an **AR(2)** model to the `'timeseries_1'` column of `sample` and print the summary.\n",
        "\n",
        "Remember that an ARMA(p,0) model is the same as an AR(p) model"
      ]
    },
    {
      "cell_type": "code",
      "execution_count": null,
      "id": "b58e189e",
      "metadata": {
        "id": "b58e189e"
      },
      "outputs": [],
      "source": [
        "# Instantiate the model\n",
        "model = ARMA(sample['timeseries_1'], order=(2,0))\n",
        "\n",
        "# Fit the model\n",
        "results = model.fit()\n",
        "\n",
        "# Print summary\n",
        "print(results.summary())\n"
      ]
    },
    {
      "cell_type": "markdown",
      "id": "2e3d351d",
      "metadata": {
        "id": "2e3d351d"
      },
      "source": [
        "## Fitting an MA(3) Model"
      ]
    },
    {
      "cell_type": "markdown",
      "id": "d2696a30",
      "metadata": {
        "id": "d2696a30"
      },
      "source": [
        "Fit an **MA(3)** model to the `'timeseries_2'` column of `sample` and print the summary."
      ]
    },
    {
      "cell_type": "code",
      "execution_count": null,
      "id": "dc91b3a7",
      "metadata": {
        "id": "dc91b3a7"
      },
      "outputs": [],
      "source": [
        "# Instantiate the model\n",
        "model = ARMA(sample['timeseries_2'], order=(0,3))\n",
        "\n",
        "# Fit the model\n",
        "results = model.fit()\n",
        "\n",
        "# Print summary\n",
        "print(results.summary())\n"
      ]
    },
    {
      "cell_type": "markdown",
      "id": "06c136f8",
      "metadata": {
        "id": "06c136f8"
      },
      "source": [
        "## Fitting an ARMA Model"
      ]
    },
    {
      "cell_type": "markdown",
      "id": "417427f6",
      "metadata": {
        "id": "417427f6"
      },
      "source": [
        "In this exercise, you will fit an **ARMA(3,1)** model to the `earthquake` dataset and print the summary."
      ]
    },
    {
      "cell_type": "code",
      "execution_count": null,
      "id": "a489d244",
      "metadata": {
        "id": "a489d244"
      },
      "outputs": [],
      "source": [
        "# Instantiate the model\n",
        "model = ARMA(earthquake, order=(3,1))\n",
        "\n",
        "# Fit the model\n",
        "results = model.fit()\n",
        "\n",
        "# Print model fit summary\n",
        "print(results.summary())\n"
      ]
    },
    {
      "cell_type": "markdown",
      "id": "884e297a",
      "metadata": {
        "id": "884e297a"
      },
      "source": [
        "## Fitting an ARMAX Model"
      ]
    },
    {
      "cell_type": "markdown",
      "id": "2b6815b5",
      "metadata": {
        "id": "2b6815b5"
      },
      "source": [
        "In this exercise you will fit an ARMAX model to a time series which represents the wait times at an accident and emergency room for urgent medical care.\n",
        "\n",
        "Fit an **ARMAX(2,1)** model to the `'wait_times_hrs'` column of `hospital` using `'nurse_count'` as an exogenous variable.\n",
        "\n",
        "The variable you would like to model is the wait times to be seen by a medical professional wait_times_hrs. This may be related to an exogenous variable that you measured nurse_count which is the number of nurses on shift at any given time. These can be seen below.\n",
        "\n",
        "This is a particularly interesting case of time series modeling as, if the number of nurses has an effect, you could change this to affect the wait times."
      ]
    },
    {
      "cell_type": "code",
      "execution_count": null,
      "id": "52c6ed29",
      "metadata": {
        "id": "52c6ed29"
      },
      "outputs": [],
      "source": [
        "# Instantiate the model\n",
        "model = ARMA(hospital['wait_times_hrs'], order=(2,1),\n",
        "             exog=hospital['nurse_count'])\n",
        "\n",
        "# Fit the model\n",
        "results = model.fit()\n",
        "\n",
        "# Print model fit summary\n",
        "print(results.summary())\n"
      ]
    },
    {
      "cell_type": "markdown",
      "id": "0777ba4b",
      "metadata": {
        "id": "0777ba4b"
      },
      "source": [
        "## Generating One-Step-Ahead Predictions\n",
        "\n",
        "It is very hard to forecast stock prices. Classic economics actually tells us that this should be impossible because of market clearing.\n",
        "\n",
        "Your task in this exercise is to attempt the impossible and predict the Amazon stock price anyway.\n",
        "\n",
        "In this exercise you will generate one-step-ahead predictions for the stock price as well as the uncertainty of these predictions.\n",
        "\n",
        "A model has already been fitted to the Amazon data for you. The results object from this model is available in your environment as results.\n",
        "Use the results object to make one-step-ahead predictions over the latest 30 days of data and assign the result to one_step_forecast.\n",
        "Assign your mean predictions to mean_forecast using one of the attributes of the one_step_forecast object.\n",
        "Extract the confidence intervals of your predictions from the one_step_forecast object and assign them to confidence_intervals.\n",
        "Print your mean predictions."
      ]
    },
    {
      "cell_type": "code",
      "execution_count": null,
      "id": "5dae1727",
      "metadata": {
        "id": "5dae1727"
      },
      "outputs": [],
      "source": [
        "# Generate predictions\n",
        "one_step_forecast = results.get_prediction(start=-30)\n",
        "\n",
        "# Extract prediction mean\n",
        "mean_forecast = one_step_forecast.predicted_mean\n",
        "\n",
        "# Get confidence intervals of predictions\n",
        "confidence_intervals = one_step_forecast.conf_int()\n",
        "\n",
        "# Select lower and upper confidence limits\n",
        "lower_limits = confidence_intervals.loc[:,'lower close']\n",
        "upper_limits = confidence_intervals.loc[:,'upper close']\n",
        "\n",
        "# Print best estimate predictions\n",
        "print(mean_forecast)\n"
      ]
    },
    {
      "cell_type": "markdown",
      "id": "9cb038c4",
      "metadata": {
        "id": "9cb038c4"
      },
      "source": [
        "## Plotting One-Step-Ahead Predictions"
      ]
    },
    {
      "cell_type": "markdown",
      "id": "e8f70bf8",
      "metadata": {
        "id": "e8f70bf8"
      },
      "source": [
        "Now that you have your predictions on the Amazon stock, you should plot these predictions to see how you've done.\n",
        "\n",
        "You made predictions over the latest 30 days of data available, always forecasting just one day ahead. By evaluating these predictions you can judge how the model performs in making predictions for just the next day, where you don't know the answer.\n",
        "\n",
        "The lower_limits, upper_limits and amazon DataFrames as well as your mean prediction mean_forecast that you created in the last exercise are available in your environment.\n",
        "\n",
        "Plot the amazon data, using the amazon.index as the x coordinates.\n",
        "Plot the mean_forecast prediction similarly, using mean_forecast.index as the x-coordinates.\n",
        "Plot a shaded area between lower_limits and upper_limits of your confidence interval. Use the index of lower_limits as the x coordinates."
      ]
    },
    {
      "cell_type": "code",
      "execution_count": null,
      "id": "24cb4f5e",
      "metadata": {
        "id": "24cb4f5e"
      },
      "outputs": [],
      "source": [
        "# plot the amazon data\n",
        "plt.plot(amazon.index, amazon, label='observed')\n",
        "\n",
        "# plot your mean predictions\n",
        "plt.plot(mean_forecast.index, mean_forecast, color='r', label='forecast')\n",
        "\n",
        "# shade the area between your confidence limits\n",
        "plt.fill_between(lower_limits.index, lower_limits,\n",
        "               upper_limits, color='pink')\n",
        "\n",
        "# set labels, legends and show plot\n",
        "plt.xlabel('Date')\n",
        "plt.ylabel('Amazon Stock Price - Close USD')\n",
        "plt.legend()\n",
        "plt.show()\n"
      ]
    },
    {
      "cell_type": "markdown",
      "id": "82cba625",
      "metadata": {
        "id": "82cba625"
      },
      "source": [
        "## Generating Dynamic Forecasts"
      ]
    },
    {
      "cell_type": "markdown",
      "id": "be012db6",
      "metadata": {
        "id": "be012db6"
      },
      "source": [
        "Now lets move a little further into the future, to dynamic predictions. What if you wanted to predict the Amazon stock price, not just for tomorrow, but for next week or next month? This is where dynamical predictions come in.\n",
        "\n",
        "Remember that in the video you learned how it is more difficult to make precise long-term forecasts because the shock terms add up. The further into the future the predictions go, the more uncertain. This is especially true with stock data and so you will likely find that your predictions in this exercise are not as precise as those in the last exercise.\n",
        "\n",
        "\n",
        "Use the results object to make a dynamic predictions for the latest 30 days and assign the result to dynamic_forecast.\n",
        "Assign your predictions to a new variable called mean_forecast using one of the attributes of the dynamic_forecast object.\n",
        "Extract the confidence intervals of your predictions from the dynamic_forecast object and assign them to a new variable confidence_intervals.\n",
        "Print your mean predictions.\n",
        "\n",
        "Use the .get_prediction() method of the results object to make a dynamic predictions for the latest 30 steps. Remember to set the dynamic argument to True.\n",
        "You can use the .predicted_mean attribute of dynamic_forecast to find the mean predictions.\n",
        "You can use the .conf_int() method of dynamic_forecast to generate a confidence interval."
      ]
    },
    {
      "cell_type": "code",
      "execution_count": null,
      "id": "ca87f08b",
      "metadata": {
        "id": "ca87f08b"
      },
      "outputs": [],
      "source": [
        "# Generate predictions\n",
        "dynamic_forecast = results.get_prediction(start=-30, dynamic=True)\n",
        "\n",
        "# Extract prediction mean\n",
        "mean_forecast = dynamic_forecast.predicted_mean\n",
        "\n",
        "# Get confidence intervals of predictions\n",
        "confidence_intervals = dynamic_forecast.conf_int()\n",
        "\n",
        "# Select lower and upper confidence limits\n",
        "lower_limits = confidence_intervals.loc[:,'lower close']\n",
        "upper_limits = confidence_intervals.loc[:,'upper close']\n",
        "\n",
        "# Print best estimate predictions\n",
        "print(mean_forecast)\n"
      ]
    },
    {
      "cell_type": "markdown",
      "id": "bebc323d",
      "metadata": {
        "id": "bebc323d"
      },
      "source": [
        "## Plotting Dynamic Forecasts"
      ]
    },
    {
      "cell_type": "markdown",
      "id": "bd7c49df",
      "metadata": {
        "id": "bd7c49df"
      },
      "source": [
        "Time to plot your predictions. Remember that making dynamic predictions, means that your model makes predictions with no corrections, unlike the one-step-ahead predictions. This is kind of like making a forecast now for the next 30 days, and then waiting to see what happens before comparing how good your predictions were.\n",
        "\n",
        "The lower_limits, upper_limits and amazon DataFrames as well as your mean predictions mean_forecast that you created in the last exercise are available in your environment.\n",
        "\n",
        "Plot the amazon data using the dates in the index of this DataFrame as the x coordinates and the values as the y coordinates.\n",
        "Plot the mean_forecast predictions similarly.\n",
        "Plot a shaded area between lower_limits and upper_limits of your confidence interval. Use the index of one of these DataFrames as the x coordinates."
      ]
    },
    {
      "cell_type": "code",
      "execution_count": null,
      "id": "a9d237f4",
      "metadata": {
        "id": "a9d237f4"
      },
      "outputs": [],
      "source": [
        "# plot the amazon data\n",
        "plt.plot(amazon.index, amazon, label='observed')\n",
        "\n",
        "# plot your mean predictions\n",
        "plt.plot(mean_forecast.index, mean_forecast, color='r', label='forecast')\n",
        "\n",
        "# shade the area between your confidence limits\n",
        "plt.fill_between(lower_limits.index, lower_limits,\n",
        "               upper_limits, color='pink')\n",
        "\n",
        "# set labels, legends and show plot\n",
        "plt.xlabel('Date')\n",
        "plt.ylabel('Amazon Stock Price - Close USD')\n",
        "plt.legend()\n",
        "plt.show()\n"
      ]
    },
    {
      "cell_type": "markdown",
      "id": "0a463837",
      "metadata": {
        "id": "0a463837"
      },
      "source": [
        "## Differencing and Fitting ARMA"
      ]
    },
    {
      "cell_type": "markdown",
      "id": "dcdc5b08",
      "metadata": {
        "id": "dcdc5b08"
      },
      "source": [
        "In this exercise you will fit an ARMA model to the Amazon stocks dataset. As you saw before, this is a non-stationary dataset. You will use differencing to make it stationary so that you can fit an ARMA model.\n",
        "\n",
        "In the next section you'll make a forecast of the differences and use this to forecast the actual values.\n",
        "\n",
        "The Amazon stock time series in available in your environment as amazon. The SARIMAX model class is also available in your environment.\n",
        "\n",
        "Use the .diff() method of amazon to make the time series stationary by taking the first difference. Don't forget to drop the NaN values using the .dropna() method.\n",
        "Create an ARMA(2,2) model using the SARIMAX class, passing it the stationary data.\n",
        "Fit the model."
      ]
    },
    {
      "cell_type": "code",
      "execution_count": null,
      "id": "d220a490",
      "metadata": {
        "id": "d220a490"
      },
      "outputs": [],
      "source": [
        "# Take the first difference of the data\n",
        "amazon_diff = amazon.diff().dropna()\n",
        "\n",
        "# Create ARMA(2,2) model\n",
        "arma = SARIMAX(amazon_diff, order=(2,0,2))\n",
        "\n",
        "# Fit model\n",
        "arma_results = arma.fit()\n",
        "\n",
        "# Print fit summary\n",
        "print(arma_results.summary())\n"
      ]
    },
    {
      "cell_type": "markdown",
      "id": "a0e7337f",
      "metadata": {
        "id": "a0e7337f"
      },
      "source": [
        "## Unrolling ARMA Forecast"
      ]
    },
    {
      "cell_type": "markdown",
      "id": "f67389c2",
      "metadata": {
        "id": "f67389c2"
      },
      "source": [
        "Now you will use the model that you trained in the previous exercise arma in order to forecast the absolute value of the Amazon stocks dataset. Remember that sometimes predicting the difference could be enough; will the stocks go up, or down; but sometimes the absolute value is key.\n",
        "\n",
        "The results object from the model you trained in the last exercise is available in your environment as arma_results. The np.cumsum() function and the original DataFrame amazon are also available.\n",
        "Use the .get_forecast() method of the arma_results object and select the predicted mean of the next 10 differences.\n",
        "Use the np.cumsum() function to integrate your difference forecast.\n",
        "Add the last value of the original DataFrame to make your forecast an absolute value.\n"
      ]
    },
    {
      "cell_type": "code",
      "execution_count": null,
      "id": "eaa6d4fc",
      "metadata": {
        "id": "eaa6d4fc"
      },
      "outputs": [],
      "source": [
        "# Make arma forecast of next 10 differences\n",
        "arma_diff_forecast = arma_results.get_forecast(steps=10).predicted_mean\n",
        "\n",
        "# Integrate the difference forecast\n",
        "arma_int_forecast = np.cumsum(arma_diff_forecast)\n",
        "\n",
        "# Make absolute value forecast\n",
        "arma_value_forecast = arma_int_forecast + amazon.iloc[-1,0]\n",
        "\n",
        "# Print forecast\n",
        "print(arma_value_forecast)\n"
      ]
    },
    {
      "cell_type": "markdown",
      "id": "6b1777e0",
      "metadata": {
        "id": "6b1777e0"
      },
      "source": [
        "## Fitting an ARIMA Model"
      ]
    },
    {
      "cell_type": "markdown",
      "id": "f607d2c0",
      "metadata": {
        "id": "f607d2c0"
      },
      "source": [
        "In this exercise you'll learn how to be lazy in time series modeling. Instead of taking the difference, modeling the difference and then integrating, you're just going to lets statsmodels do the hard work for you.\n",
        "\n",
        "You'll repeat the same exercise that you did before, of forecasting the absolute values of the Amazon stocks dataset, but this time with an ARIMA model.\n",
        "\n",
        "A subset of the stocks dataset is available in your environment as amazon and so is the SARIMAX model class.\n",
        "\n",
        "Create an ARIMA(2,1,2) model, using the SARIMAX class, passing it the Amazon stocks data amazon.\n",
        "Fit the model.\n",
        "Make a forecast of mean values of the Amazon data for the next 10 time steps. Assign the result to arima_value_forecast."
      ]
    },
    {
      "cell_type": "code",
      "execution_count": null,
      "id": "c953474b",
      "metadata": {
        "id": "c953474b"
      },
      "outputs": [],
      "source": [
        "# Create ARIMA(2,1,2) model\n",
        "arima = SARIMAX(amazon, order=(2,1,2))\n",
        "\n",
        "# Fit ARIMA model\n",
        "arima_results = arima.fit()\n",
        "\n",
        "# Make ARIMA forecast of next 10 values\n",
        "arima_value_forecast = arima_results.get_forecast(steps=10).predicted_mean\n",
        "\n",
        "# Print forecast\n",
        "print(arima_value_forecast)\n"
      ]
    }
  ],
  "metadata": {
    "colab": {
      "provenance": []
    }
  },
  "nbformat": 4,
  "nbformat_minor": 5
}
{
  "cells": [
    {
      "cell_type": "markdown",
      "id": "22d04a7a",
      "metadata": {
        "id": "22d04a7a"
      },
      "source": [
        "# ARIMA - Chapter 3\n",
        "## AR or MA\n",
        "In this exercise, you will use the ACF and PACF to decide whether some data is best suited to an MA model or an AR model. Selecting the right model order is of great importance to our predictions.\n",
        "\n",
        "### Expected Behavior of ACF and PACF:\n",
        "| Model | ACF | PACF |\n",
        "|---|---|---|\n",
        "| AR(p) | Tails off | Cuts off after lag p |\n",
        "| MA(q) | Cuts off after lag q | Tails off |\n",
        "| ARMA(p,q) | Tails off | Tails off |\n"
      ]
    },
    {
      "cell_type": "code",
      "execution_count": null,
      "id": "bb558b5f",
      "metadata": {
        "id": "bb558b5f"
      },
      "outputs": [],
      "source": [
        "from statsmodels.graphics.tsaplots import plot_acf, plot_pacf\n",
        "import matplotlib.pyplot as plt\n",
        "\n",
        "# Create figure\n",
        "fig, (ax1, ax2) = plt.subplots(2,1, figsize=(12,8))\n",
        "\n",
        "# Plot the ACF of df\n",
        "plot_acf(df, lags=10, zero=False, ax=ax1)\n",
        "\n",
        "# Plot the PACF of df\n",
        "plot_pacf(df, lags=10, zero=False, ax=ax2)\n",
        "\n",
        "plt.show()"
      ]
    },
    {
      "cell_type": "markdown",
      "id": "a26dab07",
      "metadata": {
        "id": "a26dab07"
      },
      "source": [
        "## Order of Earthquakes\n",
        "In this exercise, you will use the ACF and PACF plots to decide on the most appropriate order to forecast the earthquakes time series."
      ]
    },
    {
      "cell_type": "code",
      "execution_count": null,
      "id": "e9b7ed1f",
      "metadata": {
        "id": "e9b7ed1f"
      },
      "outputs": [],
      "source": [
        "# Create figure\n",
        "fig, (ax1, ax2) = plt.subplots(2,1, figsize=(12,8))\n",
        "\n",
        "# Plot ACF and PACF\n",
        "plot_acf(earthquake, lags=15, zero=False, ax=ax1)\n",
        "plot_pacf(earthquake, lags=15, zero=False, ax=ax2)\n",
        "\n",
        "# Show plot\n",
        "plt.show()"
      ]
    },
    {
      "cell_type": "markdown",
      "id": "049dd760",
      "metadata": {
        "id": "049dd760"
      },
      "source": [
        "## Creating and Training a SARIMAX Model\n",
        "Now, you will create and train a SARIMAX model for the earthquake time series."
      ]
    },
    {
      "cell_type": "code",
      "execution_count": null,
      "id": "63baf0bf",
      "metadata": {
        "id": "63baf0bf"
      },
      "outputs": [],
      "source": [
        "from statsmodels.tsa.statespace.sarimax import SARIMAX\n",
        "\n",
        "# Instantiate model\n",
        "model = SARIMAX(earthquake, order =(1,0,0))\n",
        "\n",
        "# Train model\n",
        "results = model.fit()"
      ]
    },
    {
      "cell_type": "markdown",
      "id": "af94fa58",
      "metadata": {
        "id": "af94fa58"
      },
      "source": [
        "## Searching over Model Order\n",
        "In this exercise, you will perform a search over different values of `p` and `q` to find the best model order using AIC and BIC.n order to choose the best order for this model you are going to have to do a search over lots of potential model orders to find the best set.\n",
        "The SARIMAX model class and the time series DataFrame df are available in your environment.\n"
      ]
    },
    {
      "cell_type": "code",
      "execution_count": null,
      "id": "4af331ce",
      "metadata": {
        "id": "4af331ce"
      },
      "outputs": [],
      "source": [
        "# Create empty list to store search results\n",
        "order_aic_bic=[]\n",
        "\n",
        "# Loop over p values from 0-2\n",
        "for p in range(3):\n",
        "    # Loop over q values from 0-2\n",
        "    for q in range(3):\n",
        "        # Create and fit ARMA(p,q) model\n",
        "        model = SARIMAX(df, order=(p,0,q))\n",
        "        results = model.fit()\n",
        "\n",
        "        # Append order and results tuple\n",
        "        order_aic_bic.append((p,q,results.aic, results.bic))"
      ]
    },
    {
      "cell_type": "markdown",
      "id": "7a811d3f",
      "metadata": {
        "id": "7a811d3f"
      },
      "source": [
        "## Choosing Order with AIC and BIC\n",
        "Now that you have performed a search over many model orders, you will evaluate your results to find the best model order."
      ]
    },
    {
      "cell_type": "code",
      "execution_count": null,
      "id": "19bab67b",
      "metadata": {
        "id": "19bab67b"
      },
      "outputs": [],
      "source": [
        "import pandas as pd\n",
        "\n",
        "# Construct DataFrame from order_aic_bic\n",
        "order_df = pd.DataFrame(order_aic_bic, columns=['p', 'q', 'AIC', 'BIC'])\n",
        "\n",
        "# Print order_df in order of increasing AIC\n",
        "print(order_df.sort_values('AIC'))\n",
        "\n",
        "# Print order_df in order of increasing BIC\n",
        "print(order_df.sort_values('BIC'))"
      ]
    },
    {
      "cell_type": "markdown",
      "id": "9fc2806d",
      "metadata": {
        "id": "9fc2806d"
      },
      "source": [
        "## Mean Absolute Error\n",
        "In this exercise you will apply an AIC-BIC order search for the earthquakes time series. In the last lesson you decided that this dataset looked like an AR(1) process. You will do a grid search over parameters to see if you get the same results. The ACF and PACF plots for this dataset are shown below.\n",
        "Obviously, before you use the model to predict, you want to know how accurate your predictions are. The mean absolute error (MAE) is a good statistic for this. It is the mean difference between your predictions and the true values.\n",
        "\n",
        "In this exercise you will calculate the MAE for an ARMA(1,1) model fit to the earthquakes time series.\n",
        "\n",
        "Before using the model for predictions, you should check its accuracy using the Mean Absolute Error (MAE)."
      ]
    },
    {
      "cell_type": "code",
      "execution_count": null,
      "id": "5a51c63a",
      "metadata": {
        "id": "5a51c63a"
      },
      "outputs": [],
      "source": [
        "import numpy as np\n",
        "\n",
        "# Fit model\n",
        "model = SARIMAX(earthquake, order=(1,0,1))\n",
        "results = model.fit()\n",
        "\n",
        "# Calculate the mean absolute error from residuals\n",
        "mae = np.mean(np.abs(results.resid))\n",
        "\n",
        "# Print mean absolute error\n",
        "print(mae)\n",
        "\n",
        "# Make plot of time series for comparison\n",
        "earthquake.plot()\n",
        "plt.show()"
      ]
    },
    {
      "cell_type": "markdown",
      "id": "1e57c4fe",
      "metadata": {
        "id": "1e57c4fe"
      },
      "source": [
        "## Diagnostic Summary Statistics\n",
        "It is important to know when you need to go back to the drawing board in model design. In this exercise you will use the residual test statistics in the results summary to decide whether a model is a good fit to a time series.\n",
        "\n",
        "Using residual test statistics to decide whether a model is a good fit to a time series.\n",
        "\n",
        "Here is a reminder of the tests in the model summary:\n",
        "\n",
        "Test\tNull hypothesis\tP-value name\n",
        "Ljung-Box\tThere are no correlations in the residual\n",
        "Prob(Q)\n",
        "Jarque-Bera\tThe residuals are normally distributed\tProb(JB)\n",
        "An unknown time series df and the SARIMAX model class are available for you in your environment."
      ]
    },
    {
      "cell_type": "code",
      "execution_count": null,
      "id": "dc66683d",
      "metadata": {
        "id": "dc66683d"
      },
      "outputs": [],
      "source": [
        "# Create and fit model\n",
        "model1 = SARIMAX(df, order=(3,0,1))\n",
        "results1 = model1.fit()\n",
        "\n",
        "# Print summary\n",
        "print(results1.summary())"
      ]
    },
    {
      "cell_type": "markdown",
      "id": "438f2672",
      "metadata": {
        "id": "438f2672"
      },
      "source": [
        "## Plot Diagnostics\n",
        "Create diagnostic plots to evaluate the fit of the model.\n",
        "It is important to know when you need to go back to the drawing board in model design. In this exercise you will use 4 common plots to decide whether a model is a good fit to some data.\n",
        "\n",
        "Here is a reminder of what you would like to see in each of the plots for a model that fits well:\n",
        "\n",
        "Test\tGood fit\n",
        "Standardized residual\tThere are no obvious patterns in the residuals\n",
        "Histogram plus kde estimate\tThe KDE curve should be very similar to the normal distribution\n",
        "Normal Q-Q\tMost of the data points should lie on the straight line\n",
        "Correlogram\t95% of correlations for lag greater than zero should not be significant"
      ]
    },
    {
      "cell_type": "code",
      "execution_count": null,
      "id": "a655e9f3",
      "metadata": {
        "id": "a655e9f3"
      },
      "outputs": [],
      "source": [
        "# Create and fit model\n",
        "model = SARIMAX(df, order=(1,1,1))\n",
        "results = model.fit()\n",
        "\n",
        "# Create the 4 diagnostics plots\n",
        "results.plot_diagnostics()\n",
        "plt.show()"
      ]
    },
    {
      "cell_type": "markdown",
      "id": "d6019b5e",
      "metadata": {
        "id": "d6019b5e"
      },
      "source": [
        "## Identification using Box-Jenkins Methodology\n",
        "Use the Dickey-Fuller test to check for stationarity.\n",
        "In the following exercises you will apply to the Box-Jenkins methodology to go from an unknown dataset to a model which is ready to make forecasts.\n",
        "\n",
        "You will be using a new time series. This is the personal savings as % of disposable income 1955-1979 in the US.\n",
        "\n",
        "The first step of the Box-Jenkins methodology is Identification. In this exercise you will use the tools at your disposal to test whether this new time series is stationary.\n",
        "\n",
        "The time series has been loaded in as a DataFrame savings and the adfuller() function has been imported.\n",
        "\n",
        "Plot the time series using the DataFrame's .plot() method.\n",
        "Apply the Dicky-Fuller test to the 'savings' column of the savings DataFrame and assign the test outcome to result.\n",
        "Print the Dicky-Fuller test statistics and the associated p-value.\n"
      ]
    },
    {
      "cell_type": "code",
      "execution_count": null,
      "id": "1a150543",
      "metadata": {
        "id": "1a150543"
      },
      "outputs": [],
      "source": [
        "from statsmodels.tsa.stattools import adfuller\n",
        "\n",
        "# Plot time series\n",
        "savings.plot()\n",
        "plt.show()\n",
        "\n",
        "# Run Dickey-Fuller test\n",
        "result = adfuller(savings['savings'])\n",
        "\n",
        "# Print test statistic\n",
        "print(result[0])\n",
        "\n",
        "# Print p-value\n",
        "print(result[1])"
      ]
    },
    {
      "cell_type": "markdown",
      "source": [
        "# **Identification II**\n",
        " You learned that the savings time series is stationary without differencing. Now that you have this information you can try and identify what order of model will be the best fit.\n",
        "\n",
        "The plot_acf() and the plot_pacf() functions have been imported and the time series has been loaded into the DataFrame savings.\n",
        "\n",
        "Make a plot of the ACF, for lags 1-10 and plot it on axis ax1.\n",
        "Do the same for the PACF."
      ],
      "metadata": {
        "id": "21JT7LpgIT7n"
      },
      "id": "21JT7LpgIT7n"
    },
    {
      "cell_type": "code",
      "source": [
        "# Create figure\n",
        "fig, (ax1, ax2) = plt.subplots(2,1, figsize=(12,8))\n",
        "\n",
        "# Plot the ACF of savings on ax1\n",
        "plot_acf(savings, lags=10, zero=False, ax=ax1)\n",
        "\n",
        "# Plot the PACF of savings on ax2\n",
        "plot_pacf(savings, lags=10, zero=False, ax=ax2)\n",
        "\n",
        "plt.show()"
      ],
      "metadata": {
        "id": "XVWUQYLKIU80"
      },
      "id": "XVWUQYLKIU80",
      "execution_count": null,
      "outputs": []
    },
    {
      "cell_type": "markdown",
      "source": [
        "# Estimation\n",
        "\n",
        "In the last exercise, the ACF and PACF were a little inconclusive. The results suggest your data could be an ARMA(p,q) model or could be an imperfect AR(3) model. In this exercise you will search over models over some model orders to find the best one according to AIC.\n",
        "\n",
        "The time series savings has been loaded and the SARIMAX class has been imported into your environment.\n",
        "Loop over values of p from 0 to 3 and values of q from 0 to 3.\n",
        "Inside the loop, create an ARMA(p,q) model with a constant trend.\n",
        "Then fit the model to the time series savings.\n",
        "At the end of each loop print the values of p and q and the AIC and BIC."
      ],
      "metadata": {
        "id": "IQLKNfmVIfxF"
      },
      "id": "IQLKNfmVIfxF"
    },
    {
      "cell_type": "code",
      "source": [
        "# Loop over p values from 0-3\n",
        "for p in range(4):\n",
        "\n",
        "  # Loop over q values from 0-3\n",
        "    for q in range(4):\n",
        "      try:\n",
        "        # Create and fit ARMA(p,q) model\n",
        "        model = SARIMAX(savings, order=(p,0,q), trend='c')\n",
        "        results = model.fit()\n",
        "\n",
        "        # Print p, q, AIC, BIC\n",
        "        print(p, q, results.aic, results.bic)\n",
        "\n",
        "      except:\n",
        "        print(p, q, None, None)"
      ],
      "metadata": {
        "id": "yNggkKWmIk7W"
      },
      "id": "yNggkKWmIk7W",
      "execution_count": null,
      "outputs": []
    },
    {
      "cell_type": "markdown",
      "source": [
        "# Diagnostics\n",
        "You have arrived at the model diagnostic stage. So far you have found that the initial time series was stationary, but may have one outlying point. You identified promising model orders using the ACF and PACF and confirmed these insights by training a lot of models and using the AIC and BIC.\n",
        "\n",
        "You found that the ARMA(1,2) model was the best fit to our data and now you want to check over the predictions it makes before you would move it into production.\n",
        "\n",
        "The time series savings has been loaded and the SARIMAX class has been imported into your environment.\n",
        "\n",
        "Retrain the ARMA(1,2) model on the time series, setting the trend to constant.\n",
        "Create the 4 standard diagnostics plots.\n",
        "Print the model residual summary statistics.\n",
        "\n",
        "You can make the 4 standard diagnostics plots by using the .plot_diagnostics() method of the fitted model results object.\n",
        "The residual test statistics can be found by using the.summary() method of the fitted model results object."
      ],
      "metadata": {
        "id": "oVEcrk1oIm2l"
      },
      "id": "oVEcrk1oIm2l"
    },
    {
      "cell_type": "code",
      "source": [
        "# Create and fit model\n",
        "model = SARIMAX(savings, order=(1,0,2), trend='c')\n",
        "results = model.fit()\n",
        "\n",
        "# Create the 4 diagostics plots\n",
        "results.plot_diagnostics()\n",
        "plt.show()\n",
        "\n",
        "# Print summary\n",
        "print(results.summary())"
      ],
      "metadata": {
        "id": "VUVMd5RQIqzl"
      },
      "id": "VUVMd5RQIqzl",
      "execution_count": null,
      "outputs": []
    }
  ],
  "metadata": {
    "colab": {
      "provenance": []
    }
  },
  "nbformat": 4,
  "nbformat_minor": 5
}
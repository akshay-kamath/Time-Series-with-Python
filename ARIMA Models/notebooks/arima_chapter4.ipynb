{
  "cells": [
    {
      "cell_type": "markdown",
      "id": "a9b51d65",
      "metadata": {
        "id": "a9b51d65"
      },
      "source": [
        "# Chapter 4: ARIMA"
      ]
    },
    {
      "cell_type": "markdown",
      "id": "13aa3dc4",
      "metadata": {
        "id": "13aa3dc4"
      },
      "source": [
        "## Seasonal Decompose\n",
        "You can think of a time series as being composed of trend, seasonal, and residual components. This can be a good way to think about the data when you go about modeling it. If you know the period of the time series, you can decompose it into these components.\n",
        "\n",
        "In this exercise, you will decompose a time series showing the monthly milk production per cow in the USA. This will give you a clearer picture of the trend and the seasonal cycle. Since the data is monthly, you will guess that the seasonality might be 12 time periods; however, this won't always be the case.\n",
        "\n",
        "The milk production time series has been loaded into the DataFrame `milk_production` and is available in your environment."
      ]
    },
    {
      "cell_type": "code",
      "execution_count": null,
      "id": "bd57c76f",
      "metadata": {
        "id": "bd57c76f"
      },
      "outputs": [],
      "source": [
        "# Import seasonal decompose\n",
        "from statsmodels.tsa.seasonal import seasonal_decompose\n",
        "import matplotlib.pyplot as plt\n",
        "\n",
        "# Perform additive decomposition\n",
        "decomp = seasonal_decompose(milk_production['pounds_per_cow'], period=12)\n",
        "\n",
        "# Plot decomposition\n",
        "decomp.plot()\n",
        "plt.show()"
      ]
    },
    {
      "cell_type": "markdown",
      "id": "ee75ca15",
      "metadata": {
        "id": "ee75ca15"
      },
      "source": [
        "## Seasonal ACF and PACF\n",
        "Below is a time series showing the estimated number of water consumers in London. By eye, you can't see any obvious seasonal pattern; however, your eyes aren't the best tools you have.\n",
        "\n",
        "In this exercise, you will use the ACF and PACF to test this data for seasonality. You can see from the plot above that the time series isn't stationary, so you should probably detrend it. You will detrend it by subtracting the moving average. Remember that you could use a window size of any value bigger than the likely period.\n",
        "\n",
        "The `plot_acf()` function has been imported, and the time series has been loaded in as `water`. Plot the ACF of the `water_consumers` column of the time series up to 25 lags."
      ]
    },
    {
      "cell_type": "code",
      "execution_count": null,
      "id": "b3168ffd",
      "metadata": {
        "id": "b3168ffd"
      },
      "outputs": [],
      "source": [
        "# Create figure and subplot\n",
        "fig, ax1 = plt.subplots()\n",
        "\n",
        "# Plot the ACF on ax1\n",
        "from statsmodels.graphics.tsaplots import plot_acf\n",
        "plot_acf(water['water_consumers'], lags=25, zero=False, ax=ax1)\n",
        "\n",
        "# Show figure\n",
        "plt.show()"
      ]
    },
    {
      "cell_type": "markdown",
      "id": "4d3de9cb",
      "metadata": {
        "id": "4d3de9cb"
      },
      "source": [
        "### Detrending by Subtracting the Moving Average"
      ]
    },
    {
      "cell_type": "code",
      "execution_count": null,
      "id": "70f8d25d",
      "metadata": {
        "id": "70f8d25d"
      },
      "outputs": [],
      "source": [
        "# Subtract the rolling mean\n",
        "water_2 = water - water.rolling(15).mean()\n",
        "\n",
        "# Drop the NaN values\n",
        "water_2 = water_2.dropna()\n",
        "\n",
        "# Create figure and subplots\n",
        "fig, ax1 = plt.subplots()\n",
        "\n",
        "# Plot the ACF\n",
        "plot_acf(water_2['water_consumers'], lags=25, zero=False, ax=ax1)\n",
        "\n",
        "# Show figure\n",
        "plt.show()"
      ]
    },
    {
      "cell_type": "markdown",
      "id": "747a28da",
      "metadata": {
        "id": "747a28da"
      },
      "source": [
        "## Fitting SARIMA Models\n",
        "Fitting SARIMA models is the beginning of the end of this journey into time series modeling.\n",
        "\n",
        "It is important that you get to know your way around the SARIMA model orders, and that's what you will focus on here.\n",
        "\n",
        "In this exercise, you will practice fitting different SARIMA models to a set of time series.\n",
        "\n",
        "The time series DataFrames `df1`, `df2`, and `df3` and the SARIMAX model class are available in your environment."
      ]
    },
    {
      "cell_type": "code",
      "execution_count": null,
      "id": "b1e21c98",
      "metadata": {
        "id": "b1e21c98"
      },
      "outputs": [],
      "source": [
        "# Create a SARIMAX model\n",
        "from statsmodels.tsa.statespace.sarimax import SARIMAX\n",
        "model = SARIMAX(df1, order=(1,0,0), seasonal_order=(1,1,0,7))\n",
        "\n",
        "# Fit the model\n",
        "results = model.fit()\n",
        "\n",
        "# Print the results summary\n",
        "print(results.summary())"
      ]
    },
    {
      "cell_type": "code",
      "execution_count": null,
      "id": "ae62bbbe",
      "metadata": {
        "id": "ae62bbbe"
      },
      "outputs": [],
      "source": [
        "# Create a SARIMAX model\n",
        "model = SARIMAX(df2, order=(2,1,1), seasonal_order=(1,0,0,4))\n",
        "\n",
        "# Fit the model\n",
        "results = model.fit()\n",
        "\n",
        "# Print the results summary\n",
        "print(results.summary())"
      ]
    },
    {
      "cell_type": "code",
      "execution_count": null,
      "id": "d5469f93",
      "metadata": {
        "id": "d5469f93"
      },
      "outputs": [],
      "source": [
        "# Create a SARIMAX model\n",
        "model = SARIMAX(df3, order=(1,1,0), seasonal_order=(0,1,1,12))\n",
        "\n",
        "# Fit the model\n",
        "results = model.fit()\n",
        "\n",
        "# Print the results summary\n",
        "print(results.summary())"
      ]
    },
    {
      "cell_type": "markdown",
      "source": [
        "# Choosing SARIMA order\n",
        "In this exercise you will find the appropriate model order for a new set of time series. This is monthly series of the number of employed persons in Australia (in thousands). The seasonal period of this time series is 12 months.\n",
        "\n",
        "You will create non-seasonal and seasonal ACF and PACF plots and use the table below to choose the appropriate model orders.\n",
        "\n",
        "AR(p)\tMA(q)\tARMA(p,q)\n",
        "ACF\tTails off\tCuts off after lag q\tTails off\n",
        "PACF\tCuts off after lag p\tTails off\tTails off\n",
        "The DataFrame aus_employment and the functions plot_acf() and plot_pacf() are available in your environment.\n",
        "\n",
        "Note that you can take multiple differences of a DataFrame using df.diff(n1).diff(n2).\n",
        "Take the first order difference and the seasonal difference of the aus_employment and drop the NaN values. The seasonal period is 12 months."
      ],
      "metadata": {
        "id": "F8onpJBYJaJn"
      },
      "id": "F8onpJBYJaJn"
    },
    {
      "cell_type": "code",
      "source": [
        "# Take the first and seasonal differences and drop NaNs\n",
        "aus_employment_diff = aus_employment.diff().diff(12).dropna()\n",
        "\n",
        "Plot the ACF and PACF of aus_employment_diff up to 11 lags.\n",
        "# Create the figure\n",
        "fig, (ax1, ax2) = plt.subplots(2,1,figsize=(8,6))\n",
        "\n",
        "# Plot the ACF on ax1\n",
        "plot_acf(aus_employment_diff, lags=11, zero=False, ax=ax1)\n",
        "\n",
        "# Plot the PACF on ax2\n",
        "plot_pacf(aus_employment_diff, lags=11, zero=False, ax=ax2)\n",
        "\n",
        "plt.show()"
      ],
      "metadata": {
        "id": "FtubeB09JkdV"
      },
      "id": "FtubeB09JkdV",
      "execution_count": null,
      "outputs": []
    },
    {
      "cell_type": "code",
      "source": [
        "# Make list of lags\n",
        "lags = [12, 24, 36, 48, 60]\n",
        "\n",
        "# Create the figure\n",
        "fig, (ax1, ax2) = plt.subplots(2,1,figsize=(8,6))\n",
        "\n",
        "# Plot the ACF on ax1\n",
        "plot_acf(aus_employment_diff, lags=lags, ax=ax1)\n",
        "\n",
        "# Plot the PACF on ax2\n",
        "plot_pacf(aus_employment_diff, lags=lags, ax=ax2)\n",
        "\n",
        "plt.show()"
      ],
      "metadata": {
        "id": "KXVxnoj8Jtlu"
      },
      "id": "KXVxnoj8Jtlu",
      "execution_count": null,
      "outputs": []
    },
    {
      "cell_type": "markdown",
      "source": [
        "#SARIMA vs ARIMA forecasts\n",
        "In this exercise, you will see the effect of using a SARIMA model instead of an ARIMA model on your forecasts of seasonal time series.\n",
        "\n",
        "Two models, an ARIMA(3,1,2) and a SARIMA(0,1,1)(1,1,1), have been fit to the Wisconsin employment time series. These were the best ARIMA model and the best SARIMA model available according to the AIC.\n",
        "\n",
        "In the exercise you will use these two models to make dynamic future forecast for 25 months and plot these predictions alongside held out data for this period, wisconsin_test.\n",
        "\n",
        "The fitted ARIMA results object and the fitted SARIMA results object are available in your environment as arima_results and sarima_results.\n",
        "\n",
        "Create a forecast object, called arima_pred, for the ARIMA model to forecast the next 25 steps after the end of the training data.\n",
        "Extract the forecast .predicted_mean attribute from arima_pred and assign it to arima_mean.\n",
        "Repeat the above two steps for the SARIMA model.\n",
        "Plot the SARIMA and ARIMA forecasts and the held out data wisconsin_test.\n",
        "\n",
        "Remember that you can use the fitted results object's .get_forecast() to create a forecast object.\n",
        "To forecast the next N steps you need to pass steps=N into the .get_forecast() method.\n",
        "The mean forecast prediction is stored in the .predicted_mean attribute of the forecast object.\n"
      ],
      "metadata": {
        "id": "L6S5Z1x_JzKd"
      },
      "id": "L6S5Z1x_JzKd"
    },
    {
      "cell_type": "code",
      "source": [
        "# Create ARIMA mean forecast\n",
        "arima_pred = arima_results.get_forecast(steps=25)\n",
        "arima_mean = arima_pred.predicted_mean\n",
        "\n",
        "# Create SARIMA mean forecast\n",
        "sarima_pred = sarima_results.get_forecast(steps=25)\n",
        "sarima_mean = sarima_pred.predicted_mean\n",
        "\n",
        "# Plot mean ARIMA and SARIMA predictions and observed\n",
        "plt.plot(dates, sarima_mean, label='SARIMA')\n",
        "plt.plot(dates, arima_mean, label='ARIMA')\n",
        "plt.plot(wisconsin_test, label='observed')\n",
        "plt.legend()\n",
        "plt.show()"
      ],
      "metadata": {
        "id": "GwZMWQo6J1LV"
      },
      "id": "GwZMWQo6J1LV",
      "execution_count": null,
      "outputs": []
    },
    {
      "cell_type": "markdown",
      "id": "e4611a00",
      "metadata": {
        "id": "e4611a00"
      },
      "source": [
        "## Automated Model Selection\n",
        "The `pmdarima` package is a powerful tool to help you choose the model orders. You can use the information you already have from the identification step to narrow down the model orders that you choose by automation.\n",
        "\n",
        "Remember, although automation is powerful, it can sometimes make mistakes that you wouldn't. It is hard to guess how the input data could be imperfect and affect the test scores.In this exercise you will use the pmdarima package to automatically choose model orders for some time series datasets.\n"
      ]
    },
    {
      "cell_type": "code",
      "execution_count": null,
      "id": "f1cd5fd5",
      "metadata": {
        "id": "f1cd5fd5"
      },
      "outputs": [],
      "source": [
        "# Import pmdarima\n",
        "import pmdarima as pm\n",
        "\n",
        "# Create auto_arima model\n",
        "#Model the time series df1 with period 7 days and set first order seasonal differencing and no non-seasonal differencing.\n",
        "#Use the auto_arima() function from the pmdarima package to fit the data.Make sure you don't mix up the seasonal differencing D and the non-seasonal differencing d.\n",
        "model1 = pm.auto_arima(df1, seasonal=True, m=7, d=0, D=1, max_p=2, max_q=2, trace=True, error_action='ignore', suppress_warnings=True)\n",
        "\n",
        "# Print model summary\n",
        "print(model1.summary())"
      ]
    },
    {
      "cell_type": "markdown",
      "source": [
        "Create a model to fit df2. Set the non-seasonal differencing to 1, the trend to a constant and set no seasonality.\n"
      ],
      "metadata": {
        "id": "S2ZFHs9hKJOV"
      },
      "id": "S2ZFHs9hKJOV"
    },
    {
      "cell_type": "code",
      "source": [
        "# Create model\n",
        "model2 = pm.auto_arima(df2,\n",
        "                      seasonal=False,\n",
        "                      d=1,\n",
        "                      trend='c',\n",
        "                 \t  max_p=2, max_q=2,\n",
        "                      trace=True,\n",
        "                      error_action='ignore',\n",
        "                      suppress_warnings=True)\n",
        "\n",
        "# Print model summary\n",
        "print(model2.summary())"
      ],
      "metadata": {
        "id": "oG67epsaKKaF"
      },
      "id": "oG67epsaKKaF",
      "execution_count": null,
      "outputs": []
    },
    {
      "cell_type": "markdown",
      "source": [
        "Fit a SARIMAX(p,1,q)(P,1,Q) model to the data setting start_p, start_q, max_p, max_q, max_P and max_Q to 1.\n"
      ],
      "metadata": {
        "id": "y6NXYzbUKM20"
      },
      "id": "y6NXYzbUKM20"
    },
    {
      "cell_type": "code",
      "source": [
        "# Create model for SARIMAX(p,1,q)(P,1,Q)7\n",
        "model3 = pm.auto_arima(df3,\n",
        "                      seasonal=True, m=7,\n",
        "                      d=1, D=1,\n",
        "                      start_p=1, start_q=1,\n",
        "                      max_p=1, max_q=1,\n",
        "                      max_P=1, max_Q=1,\n",
        "                      trace=True,\n",
        "                      error_action='ignore',\n",
        "                      suppress_warnings=True)\n",
        "\n",
        "# Print model summary\n",
        "print(model3.summary())"
      ],
      "metadata": {
        "id": "ZUxHtyfYKOG9"
      },
      "id": "ZUxHtyfYKOG9",
      "execution_count": null,
      "outputs": []
    },
    {
      "cell_type": "markdown",
      "id": "5f25d69c",
      "metadata": {
        "id": "5f25d69c"
      },
      "source": [
        "## Saving and Updating Models\n",
        "Once you have gone through the steps of the Box-Jenkins method and arrived at a model you are happy with, you will want to be able to save that model and also to incorporate new measurements when they are available. This is a key part of putting the model into production.In this exercise you will save a freshly trained model to disk, then reload it to update it with new data.\n",
        "The model is available in your environment as model.\n",
        "Import the joblib package and use it to save the model to \"candy_model.pkl\".\n",
        "\n",
        "To save the model use the dump() function from the joblib package.\n",
        "The arguments to the dump() function are the model and the filename."
      ]
    },
    {
      "cell_type": "code",
      "execution_count": null,
      "id": "21e4a97d",
      "metadata": {
        "id": "21e4a97d"
      },
      "outputs": [],
      "source": [
        "# Import joblib\n",
        "import joblib\n",
        "\n",
        "# Set model name\n",
        "filename = 'candy_model.pkl'\n",
        "\n",
        "# Pickle it\n",
        "joblib.dump(model, filename)"
      ]
    },
    {
      "cell_type": "code",
      "execution_count": null,
      "id": "257d687b",
      "metadata": {
        "id": "257d687b"
      },
      "outputs": [],
      "source": [
        "# Load the model back in\n",
        "loaded_model = joblib.load(filename)\n",
        "\n",
        "# Update the model\n",
        "loaded_model.update(df_new)"
      ]
    },
    {
      "cell_type": "markdown",
      "source": [
        "#SARIMA model diagnostics\n",
        "Usually the next step would be to find the order of differencing and other model orders. However, this time it's already been done for you. The time series is best fit by a SARIMA(1, 1, 1)(0, 1, 1) model with an added constant.\n",
        "\n",
        "In this exercise you will make sure that this is a good model by first fitting it using the SARIMAX class and going through the normal model diagnostics procedure.\n",
        "\n",
        "The DataFrame, co2, and the SARIMAX model class are available in your environment.\n",
        "\n",
        "Fit a SARIMA(1, 1, 1)(0, 1, 1) model to the data and set the trend to constant."
      ],
      "metadata": {
        "id": "x6clFwDPKef9"
      },
      "id": "x6clFwDPKef9"
    },
    {
      "cell_type": "code",
      "source": [
        "# Import model class\n",
        "from statsmodels.tsa.statespace.sarimax import SARIMAX\n",
        "\n",
        "# Create model object\n",
        "model = SARIMAX(co2,\n",
        "                order=(1, 1, 1),\n",
        "                seasonal_order=(0, 1, 1, 12),\n",
        "                trend='c')\n",
        "# Fit model\n",
        "results = model.fit()"
      ],
      "metadata": {
        "id": "bEwIIVu8Ki5t"
      },
      "id": "bEwIIVu8Ki5t",
      "execution_count": null,
      "outputs": []
    },
    {
      "cell_type": "markdown",
      "source": [
        "Create the common diagnostics plots for the results object.\n"
      ],
      "metadata": {
        "id": "Ml5VFy1tKkIG"
      },
      "id": "Ml5VFy1tKkIG"
    },
    {
      "cell_type": "code",
      "source": [
        "# Plot common diagnostics\n",
        "results.plot_diagnostics()\n",
        "plt.show()"
      ],
      "metadata": {
        "id": "i4OCEU3oKko_"
      },
      "id": "i4OCEU3oKko_",
      "execution_count": null,
      "outputs": []
    },
    {
      "cell_type": "markdown",
      "source": [
        "#SARIMA forecast\n",
        "In the previous exercise you confirmed that a SARIMA  x  model was a good fit to the CO time series by using diagnostic checking.\n",
        "\n",
        "Now its time to put this model into practice to make future forecasts. Climate scientists tell us that we have until 2030 to drastically reduce our CO emissions or we will face major societal challenges.\n",
        "\n",
        "In this exercise, you will forecast the CO time series up to the year 2030 to find the CO levels if we continue emitting as usual.\n",
        "\n",
        "The trained model results object is available in your environment as results.\n",
        "\n",
        "Create a forecast object for the next 136 steps - the number of months until Jan 2030.\n",
        "Assign the .predicted_mean of the forecast to the variable mean.\n",
        "Compute the confidence intervals and assign this DataFrame to the variable conf_int."
      ],
      "metadata": {
        "id": "q72GiQi1KmKl"
      },
      "id": "q72GiQi1KmKl"
    },
    {
      "cell_type": "code",
      "source": [
        "    # Create forecast object\n",
        "    forecast_object = results.get_forecast(steps=136)\n",
        "\n",
        "    # Extract prediction mean\n",
        "    mean = forecast_object.predicted_mean\n",
        "\n",
        "    # Extract the confidence intervals\n",
        "    conf_int = forecast_object.conf_int()\n",
        "\n",
        "    # Extract the forecast dates\n",
        "    dates = mean.index"
      ],
      "metadata": {
        "id": "lxGIBHNkKqQg"
      },
      "id": "lxGIBHNkKqQg",
      "execution_count": null,
      "outputs": []
    },
    {
      "cell_type": "markdown",
      "source": [
        "Plot the mean predictions against the dates.\n",
        "Shade the area between the values in the first two columns of DataFrame conf_int using dates as the x-axis values.\n",
        "\n",
        "conf_int is a DataFrame. The lower limits are in the zeroth column conf_int.iloc[:,0] and the higher limits are in the first column.\n",
        "You will need to pass the dates, the lower limits and the upper limits into the pyplot fill_between() function."
      ],
      "metadata": {
        "id": "BdyzXNA-KtzW"
      },
      "id": "BdyzXNA-KtzW"
    },
    {
      "cell_type": "code",
      "source": [
        "plt.figure()\n",
        "\n",
        "# Plot past CO2 levels\n",
        "plt.plot(co2.index, co2, label='past')\n",
        "\n",
        "# Plot the prediction means as line\n",
        "plt.plot(dates, mean, label='predicted')\n",
        "\n",
        "# Shade between the confidence intervals\n",
        "plt.fill_between(dates, conf_int.iloc[:,0], conf_int.iloc[:,1], alpha=0.2)\n",
        "\n",
        "# Plot legend and show figure\n",
        "plt.legend()\n",
        "plt.show()"
      ],
      "metadata": {
        "id": "XXVimGMcKuTd"
      },
      "id": "XXVimGMcKuTd",
      "execution_count": null,
      "outputs": []
    },
    {
      "cell_type": "code",
      "source": [
        "# Print last predicted mean\n",
        "print(mean.iloc[-1])\n",
        "\n",
        "# Print last confidence interval\n",
        "print(conf_int.iloc[-1])"
      ],
      "metadata": {
        "id": "bIZRgTOlKys5"
      },
      "id": "bIZRgTOlKys5",
      "execution_count": null,
      "outputs": []
    }
  ],
  "metadata": {
    "colab": {
      "provenance": []
    }
  },
  "nbformat": 4,
  "nbformat_minor": 5
}
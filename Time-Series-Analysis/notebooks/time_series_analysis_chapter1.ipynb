{
  "cells": [
    {
      "cell_type": "markdown",
      "id": "a9672792",
      "metadata": {
        "id": "a9672792"
      },
      "source": [
        "# Time Series Analysis in Python\n",
        "\n",
        "This notebook explores various time series concepts using Python and Pandas."
      ]
    },
    {
      "cell_type": "markdown",
      "id": "3991c5f6",
      "metadata": {
        "id": "3991c5f6"
      },
      "source": [
        "## A 'Thin' Application of Time Series\n",
        "Google Trends Analysis\n",
        "Google Trends allows users to see how often a term is searched. We downloaded a dataset containing the frequency over time for the search term \"diet\", pre-loaded in a DataFrame called diet.\n",
        "\n",
        "When analyzing a time series, the first step is to visualize the data with a plot. We should see a gradual decrease in searches throughout the year, with a low around December holidays, followed by a spike in January due to New Year’s resolutions.\n",
        "\n",
        "Before plotting, ensure the index is converted to a datetime format.\n",
        "\n"
      ]
    },
    {
      "cell_type": "code",
      "execution_count": null,
      "id": "7b08a5ca",
      "metadata": {
        "id": "7b08a5ca"
      },
      "outputs": [],
      "source": [
        "import pandas as pd\n",
        "import matplotlib.pyplot as plt\n",
        "\n",
        "# Convert the date index to datetime\n",
        "diet.index = pd.to_datetime(diet.index)"
      ]
    },
    {
      "cell_type": "code",
      "execution_count": null,
      "id": "737216de",
      "metadata": {
        "id": "737216de"
      },
      "outputs": [],
      "source": [
        "# Plot the entire time series diet and show gridlines\n",
        "diet.plot(grid=True)\n",
        "plt.show()"
      ]
    },
    {
      "cell_type": "code",
      "execution_count": null,
      "id": "0ecc43f3",
      "metadata": {
        "id": "0ecc43f3"
      },
      "outputs": [],
      "source": [
        "# Slice the dataset to keep only 2012\n",
        "diet2012 = diet['2012']\n",
        "\n",
        "# Plot 2012 data\n",
        "diet2012.plot(grid=True)\n",
        "plt.show()"
      ]
    },
    {
      "cell_type": "markdown",
      "id": "0aebf19a",
      "metadata": {
        "id": "0aebf19a"
      },
      "source": [
        "## Merging Time Series with Different Dates\n",
        "\n",
        "\n",
        "Stock and bond markets in the U.S. are closed on different days. For example:\n",
        "The bond market is closed on Columbus Day and Veterans Day, but the stock market remains open.\n",
        "To identify such differences, we convert both indexes into sets and take the difference.\n",
        "We merge stock (stocks) and bond (bonds) DataFrames using .join() to get common dates."
      ]
    },
    {
      "cell_type": "code",
      "execution_count": null,
      "id": "061d5329",
      "metadata": {
        "id": "061d5329"
      },
      "outputs": [],
      "source": [
        "# Convert the stock index and bond index into sets\n",
        "set_stock_dates = set(stocks.index)\n",
        "set_bond_dates = set(bonds.index)\n",
        "\n",
        "# Take the difference and print\n",
        "diff_dates = set_stock_dates - set_bond_dates\n",
        "print(diff_dates)\n",
        "\n",
        "# Merge stocks and bonds DataFrames using join()\n",
        "stocks_and_bonds = stocks.join(bonds, how='inner')"
      ]
    },
    {
      "cell_type": "markdown",
      "id": "50db6bd2",
      "metadata": {
        "id": "50db6bd2"
      },
      "source": [
        "## Correlation of Stocks and Bonds\n",
        "\n",
        "Investors analyze the correlation between stock and bond returns for asset allocation and hedging. A positive correlation suggests that when interest rates decrease, stock prices also decrease.\n",
        "Here, we compute the correlation of stock and bond returns to analyze their relationship.\n"
      ]
    },
    {
      "cell_type": "code",
      "execution_count": null,
      "id": "b7dde7ba",
      "metadata": {
        "id": "b7dde7ba"
      },
      "outputs": [],
      "source": [
        "# Compute percent change\n",
        "returns = stocks_and_bonds.pct_change()\n",
        "\n",
        "# Compute correlation\n",
        "correlation = returns['SP500'].corr(returns['US10Y'])\n",
        "print('Correlation:', correlation)\n",
        "\n",
        "# Make scatter plot\n",
        "plt.scatter(returns['SP500'], returns['US10Y'])\n",
        "plt.show()"
      ]
    },
    {
      "cell_type": "markdown",
      "id": "2a92820d",
      "metadata": {
        "id": "2a92820d"
      },
      "source": [
        "## Flying Saucers Aren't Correlated to Flying Markets\n",
        "Trending series may show strong correlation even if they are unrelated. This is known as spurious correlation.\n",
        "\n",
        "For example, both UFO sightings and stock market levels have increased over decades, showing a high correlation. However, when analyzing percent changes, the correlation drops to zero."
      ]
    },
    {
      "cell_type": "code",
      "execution_count": null,
      "id": "02b33e44",
      "metadata": {
        "id": "02b33e44"
      },
      "outputs": [],
      "source": [
        "# Compute correlation of levels\n",
        "correlation1 = levels['DJI'].corr(levels['UFO'])\n",
        "print('Correlation of levels:', correlation1)\n",
        "\n",
        "# Compute correlation of percent changes\n",
        "changes = levels.pct_change()\n",
        "correlation2 = changes['DJI'].corr(changes['UFO'])\n",
        "print('Correlation of changes:', correlation2)"
      ]
    },
    {
      "cell_type": "markdown",
      "id": "0d3266d7",
      "metadata": {
        "id": "0d3266d7"
      },
      "source": [
        "## Looking at a Regression's R-Squared\n",
        "R-squared measures how closely data fits a regression line. We perform regression analysis using `statsmodels`.\n",
        "\n",
        "R-squared measures how closely data fits the regression line. It is related to correlation as:\n",
        "\n",
        "R^2 =correlation^2\n",
        "\n",
        "Using statsmodels, we regress y on x, adding a constant term."
      ]
    },
    {
      "cell_type": "code",
      "execution_count": null,
      "id": "3a2bc8b8",
      "metadata": {
        "id": "3a2bc8b8"
      },
      "outputs": [],
      "source": [
        "import statsmodels.api as sm\n",
        "\n",
        "# Compute correlation\n",
        "correlation = x.corr(y)\n",
        "print('Correlation:', correlation)\n",
        "\n",
        "# Convert x to DataFrame\n",
        "dfx = pd.DataFrame(x, columns=['x'])\n",
        "dfx1 = sm.add_constant(dfx)\n",
        "\n",
        "# Perform regression\n",
        "result = sm.OLS(y, dfx1).fit()\n",
        "print(result.summary())"
      ]
    },
    {
      "cell_type": "markdown",
      "id": "0ff4f157",
      "metadata": {
        "id": "0ff4f157"
      },
      "source": [
        "## A Popular Strategy Using Autocorrelation\n",
        "\n",
        "Stocks tend to overreact to news, leading to mean reversion—prices bounce back after large moves.We analyze weekly autocorrelation of Microsoft (MSFT) stock returns from 2012–2017 using the .autocorr() method.\n"
      ]
    },
    {
      "cell_type": "code",
      "execution_count": null,
      "id": "f5bc81eb",
      "metadata": {
        "id": "f5bc81eb"
      },
      "outputs": [],
      "source": [
        "# Convert daily data to weekly\n",
        "MSFT = MSFT.resample(rule='W').last()\n",
        "\n",
        "# Compute percentage change of prices\n",
        "returns = MSFT.pct_change()\n",
        "\n",
        "# Compute and print autocorrelation\n",
        "autocorrelation = returns['Adj Close'].autocorr()\n",
        "print('Autocorrelation of weekly returns:', autocorrelation)"
      ]
    },
    {
      "cell_type": "markdown",
      "id": "47014ec3",
      "metadata": {
        "id": "47014ec3"
      },
      "source": [
        "## Are Interest Rates Autocorrelated?\n",
        "Short-term interest rate changes are often uncorrelated, while long-term changes tend to show negative autocorrelation.\n",
        "\n",
        "Daily changes in interest rates have close to zero autocorrelation.\n",
        "Annual changes show negative autocorrelation (rates tend to reverse over long periods)."
      ]
    },
    {
      "cell_type": "code",
      "execution_count": null,
      "id": "9857212d",
      "metadata": {
        "id": "9857212d"
      },
      "outputs": [],
      "source": [
        "# Compute daily change in interest rates\n",
        "daily_diff = daily_rates.diff()\n",
        "\n",
        "# Compute autocorrelation\n",
        "autocorrelation_daily = daily_diff['US10Y'].autocorr()\n",
        "print('Autocorrelation of daily interest rate changes:', autocorrelation_daily)\n",
        "\n",
        "# Convert daily to annual data\n",
        "yearly_rates = daily_rates.resample(rule='A').last()\n",
        "\n",
        "# Compute annual rate changes\n",
        "yearly_diff = yearly_rates.diff()\n",
        "autocorrelation_yearly = yearly_diff['US10Y'].autocorr()\n",
        "print('Autocorrelation of annual interest rate changes:', autocorrelation_yearly)"
      ]
    }
  ],
  "metadata": {
    "colab": {
      "provenance": []
    },
    "language_info": {
      "name": "python"
    },
    "kernelspec": {
      "name": "python3",
      "display_name": "Python 3"
    }
  },
  "nbformat": 4,
  "nbformat_minor": 5
}
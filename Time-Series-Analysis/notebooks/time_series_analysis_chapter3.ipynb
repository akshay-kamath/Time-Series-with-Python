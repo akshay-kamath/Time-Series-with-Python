{
  "cells": [
    {
      "cell_type": "markdown",
      "id": "957b507c",
      "metadata": {
        "id": "957b507c"
      },
      "source": [
        "# Chapter 3:  AR(1) Time Series Simulation and Analysis"
      ]
    },
    {
      "cell_type": "markdown",
      "id": "deeb867f",
      "metadata": {
        "id": "deeb867f"
      },
      "source": [
        "This notebook covers the simulation, analysis, and forecasting of AR(1) time series using Python's `statsmodels` library."
      ]
    },
    {
      "cell_type": "code",
      "execution_count": null,
      "id": "565942c8",
      "metadata": {
        "id": "565942c8"
      },
      "outputs": [],
      "source": [
        "\n",
        "import numpy as np\n",
        "import matplotlib.pyplot as plt\n",
        "from statsmodels.tsa.arima_process import ArmaProcess\n",
        "from statsmodels.graphics.tsaplots import plot_acf, plot_pacf\n",
        "from statsmodels.tsa.arima.model import ARIMA\n",
        "import warnings\n",
        "warnings.filterwarnings(\"ignore\")\n"
      ]
    },
    {
      "cell_type": "markdown",
      "id": "819d7676",
      "metadata": {
        "id": "819d7676"
      },
      "source": [
        "## Simulate AR(1) Time Series\n",
        "You will simulate and plot a few AR(1) time series, each with a different parameter, , using the arima_process module in statsmodels. In this exercise, you will look at an AR(1) model with a large positive  and a large negative , but feel free to play around with your own parameters.\n",
        "\n",
        "There are a few conventions when using the arima_process module that require some explanation. First, these routines were made very generally to handle both AR and MA models. We will cover MA models next, so for now, just ignore the MA part. Second, when inputting the coefficients, you must include the zero-lag coefficient of 1, and the sign of the other coefficients is opposite what we have been using (to be consistent with the time series literature in signal processing). For example, for an AR(1) process with , the array representing the AR parameters would be ar = np.array([1, -0.9])\n",
        "\n",
        "Import the class ArmaProcess in the arima_process module.\n",
        "Plot the simulated AR processes:\n",
        "Let ar1 represent an array of the AR parameters [1, ] as explained above. For now, the MA parameter array, ma1, will contain just the lag-zero coefficient of one.\n",
        "With parameters ar1 and ma1, create an instance of the class ArmaProcess(ar,ma) called AR_object1.\n",
        "Simulate 1000 data points from the object you just created, AR_object1, using the method .generate_sample(). Plot the simulated data in a subplot.\n",
        "Repeat for the other AR parameter."
      ]
    },
    {
      "cell_type": "code",
      "execution_count": null,
      "id": "b5317634",
      "metadata": {
        "id": "b5317634"
      },
      "outputs": [],
      "source": [
        "\n",
        "# Simulate AR(1) with phi = +0.9\n",
        "plt.figure(figsize=(10,6))\n",
        "plt.subplot(2,1,1)\n",
        "ar1 = np.array([1, -0.9])\n",
        "ma1 = np.array([1])\n",
        "AR_object1 = ArmaProcess(ar1, ma1)\n",
        "simulated_data_1 = AR_object1.generate_sample(nsample=1000)\n",
        "plt.plot(simulated_data_1)\n",
        "plt.title(\"AR(1) with phi = 0.9\")\n",
        "\n",
        "# Simulate AR(1) with phi = -0.9\n",
        "plt.subplot(2,1,2)\n",
        "ar2 = np.array([1, 0.9])\n",
        "ma2 = np.array([1])\n",
        "AR_object2 = ArmaProcess(ar2, ma2)\n",
        "simulated_data_2 = AR_object2.generate_sample(nsample=1000)\n",
        "plt.plot(simulated_data_2)\n",
        "plt.title(\"AR(1) with phi = -0.9\")\n",
        "\n",
        "plt.tight_layout()\n",
        "plt.show()\n"
      ]
    },
    {
      "cell_type": "markdown",
      "id": "606277f2",
      "metadata": {
        "id": "606277f2"
      },
      "source": [
        "## Compare ACF for Several AR Time Series\n",
        "The autocorrelation function decays exponentially for an AR time series at a rate of the AR parameter. For example, if the AR parameter, , the first-lag autocorrelation will be 0.9, the second-lag will be\n",
        ", the third-lag will be\n",
        ", etc. A smaller AR parameter will have a steeper decay, and for a negative AR parameter, say -0.9, the decay will flip signs, so the first-lag autocorrelation will be -0.9, the second-lag will be\n",
        ", the third-lag will be\n",
        ", etc.\n",
        "\n",
        "The object simulated_data_1 is the simulated time series with an AR parameter of +0.9, simulated_data_2 is for an AR parameter of -0.9, and simulated_data_3 is for an AR parameter of 0.3\n",
        "\n",
        "Compute the autocorrelation function for each of the three simulated datasets using the plot_acf function with 20 lags (and suppress the confidence intervals by setting alpha=1).\n"
      ]
    },
    {
      "cell_type": "code",
      "execution_count": null,
      "id": "4ff438d1",
      "metadata": {
        "id": "4ff438d1"
      },
      "outputs": [],
      "source": [
        "\n",
        "# Simulate AR(1) with phi = 0.3\n",
        "ar3 = np.array([1, -0.3])\n",
        "ma3 = np.array([1])\n",
        "AR_object3 = ArmaProcess(ar3, ma3)\n",
        "simulated_data_3 = AR_object3.generate_sample(nsample=1000)\n",
        "\n",
        "# Plot ACFs\n",
        "fig, axes = plt.subplots(3, 1, figsize=(8, 12))\n",
        "plot_acf(simulated_data_1, alpha=1, lags=20, ax=axes[0])\n",
        "axes[0].set_title(\"ACF for AR(1) with phi = 0.9\")\n",
        "plot_acf(simulated_data_2, alpha=1, lags=20, ax=axes[1])\n",
        "axes[1].set_title(\"ACF for AR(1) with phi = -0.9\")\n",
        "plot_acf(simulated_data_3, alpha=1, lags=20, ax=axes[2])\n",
        "axes[2].set_title(\"ACF for AR(1) with phi = 0.3\")\n",
        "\n",
        "plt.tight_layout()\n",
        "plt.show()\n"
      ]
    },
    {
      "cell_type": "markdown",
      "id": "ba589904",
      "metadata": {
        "id": "ba589904"
      },
      "source": [
        "## Estimating an AR Model\n",
        "You will estimate the AR(1) parameter, , of one of the simulated series that you generated in the earlier exercise. Since the parameters are known for a simulated series, it is a good way to understand the estimation routines before applying it to real data.\n",
        "\n",
        "For simulated_data_1 with a true  of 0.9, you will print out the estimate of . In addition, you will also print out the entire output that is produced when you fit a time series, so you can get an idea of what other tests and summary statistics are available in statsmodels.\n",
        "\n",
        "Import the class ARMA in the module statsmodels.tsa.arima_model.\n",
        "Create an instance of the ARMA class called mod using the simulated data simulated_data_1 and the order (p,q) of the model (in this case, for an AR(1)), is order=(1,0).\n",
        "Fit the model mod using the method .fit() and save it in a results object called res.\n",
        "Print out the entire summary of results using the .summary() method.\n",
        "Just print out an estimate of the constant and  using the .params attribute (no parentheses).\n",
        "\n",
        "To fit the model, first create an instance of the class: mod = ARMA(simulated_data_1, order=(1,0)) and then res = mod.fit(), followed by either res.summary() for a full summary or res.params for just the AR parameter estimates\n"
      ]
    },
    {
      "cell_type": "code",
      "execution_count": null,
      "id": "e3c339bb",
      "metadata": {
        "id": "e3c339bb"
      },
      "outputs": [],
      "source": [
        "\n",
        "from statsmodels.tsa.arima.model import ARIMA\n",
        "\n",
        "# Fit AR(1) model\n",
        "mod = ARIMA(simulated_data_1, order=(1,0,0))\n",
        "res = mod.fit()\n",
        "\n",
        "# Print summary and estimated parameters\n",
        "print(res.summary())\n",
        "print(\"Estimated parameters:\", res.params)\n"
      ]
    },
    {
      "cell_type": "markdown",
      "id": "62172954",
      "metadata": {
        "id": "62172954"
      },
      "source": [
        "## Forecasting with an AR Model\n",
        "In addition to estimating the parameters of a model that you did in the last exercise, you can also do forecasting, both in-sample and out-of-sample using statsmodels. The in-sample is a forecast of the next data point using the data up to that point, and the out-of-sample forecasts any number of data points in the future. These forecasts can be made using either the predict() method if you want the forecasts in the form of a series of data, or using the plot_predict() method if you want a plot of the forecasted data. You supply the starting point for forecasting and the ending point, which can be any number of data points after the data set ends.\n",
        "\n",
        "For the simulated series simulated_data_1 with , you will plot in-sample and out-of-sample forecasts.\n",
        "\n",
        "Import the class ARMA in the module statsmodels.tsa.arima_model\n",
        "Create an instance of the ARMA class called mod using the simulated data simulated_data_1 and the order (p,q) of the model (in this case, for an AR(1) order=(1,0)\n",
        "Fit the model mod using the method .fit() and save it in a results object called res\n",
        "Plot the in-sample and out-of-sample forecasts of the data using the plot_predict() method\n",
        "Start the forecast 10 data points before the end of the 1000 point series at 990, and end the forecast 10 data points after the end of the series at point 1010\n"
      ]
    },
    {
      "cell_type": "code",
      "execution_count": null,
      "id": "a000957e",
      "metadata": {
        "id": "a000957e"
      },
      "outputs": [],
      "source": [
        "\n",
        "# Forecasting\n",
        "res.plot_predict(start=990, end=1010)\n",
        "plt.show()\n"
      ]
    },
    {
      "cell_type": "markdown",
      "id": "a53feb9a",
      "metadata": {
        "id": "a53feb9a"
      },
      "source": [
        "## Forecasting Interest Rates\n",
        "You will now use the forecasting techniques you learned in the last exercise and apply it to real data rather than simulated data. You will revisit a dataset from the first chapter: the annual data of 10-year interest rates going back 56 years, which is in a Series called interest_rate_data. Being able to forecast interest rates is of enormous importance, not only for bond investors but also for individuals like new homeowners who must decide between fixed and floating rate mortgages.\n",
        "\n",
        "You saw in the first chapter that there is some mean reversion in interest rates over long horizons. In other words, when interest rates are high, they tend to drop and when they are low, they tend to rise over time. Currently they are below long-term rates, so they are expected to rise, but an AR model attempts to quantify how much they are expected to rise.\n",
        "\n",
        "Import the class ARMA in the module statsmodels.tsa.arima_model.\n",
        "Create an instance of the ARMA class called mod using the annual interest rate data and choosing the order for an AR(1) model.\n",
        "Fit the model mod using the method .fit() and save it in a results object called res.\n",
        "Plot the in-sample and out-of-sample forecasts of the data using the .plot_predict() method.\n",
        "Pass the arguments start=0 to start the in-sample forecast from the beginning, and choose end to be '2022' to forecast several years in the future.\n",
        "Note that the end argument 2022 must be in quotes here since it represents a date and not an integer position.\n"
      ]
    },
    {
      "cell_type": "code",
      "execution_count": null,
      "id": "9867257e",
      "metadata": {
        "id": "9867257e"
      },
      "outputs": [],
      "source": [
        "\n",
        "# Example: Forecasting interest rates (replace with real data)\n",
        "interest_rate_data = np.random.randn(56)  # Placeholder data\n",
        "\n",
        "mod = ARIMA(interest_rate_data, order=(1,0,0))\n",
        "res = mod.fit()\n",
        "\n",
        "res.plot_predict(start=0, end=70)\n",
        "plt.legend(fontsize=8)\n",
        "plt.show()\n"
      ]
    },
    {
      "cell_type": "markdown",
      "id": "ab71b8e2",
      "metadata": {
        "id": "ab71b8e2"
      },
      "source": [
        "## Compare AR Model with Random Walk\n",
        "Sometimes it is difficult to distinguish between a time series that is slightly mean reverting and a time series that does not mean revert at all, like a random walk. You will compare the ACF for the slightly mean-reverting interest rate series of the last exercise with a simulated random walk with the same number of observations.\n",
        "\n",
        "You should notice when plotting the autocorrelation of these two series side-by-side that they look very similar.\n",
        "\n",
        "Import plot_acf function from the statsmodels module\n",
        "Create two axes for the two subplots\n",
        "Plot the autocorrelation function for 12 lags of the interest rate series interest_rate_data in the top plot\n",
        "Plot the autocorrelation function for 12 lags of the interest rate series simulated_data in the bottom plot"
      ]
    },
    {
      "cell_type": "code",
      "execution_count": null,
      "id": "91aa457f",
      "metadata": {
        "id": "91aa457f"
      },
      "outputs": [],
      "source": [
        "\n",
        "# Simulate a random walk\n",
        "simulated_data = np.cumsum(np.random.randn(len(interest_rate_data)))\n",
        "\n",
        "fig, axes = plt.subplots(2,1, figsize=(8, 8))\n",
        "plot_acf(interest_rate_data, alpha=1, lags=12, ax=axes[0])\n",
        "axes[0].set_title(\"Interest Rate Data\")\n",
        "plot_acf(simulated_data, alpha=1, lags=12, ax=axes[1])\n",
        "axes[1].set_title(\"Simulated Random Walk Data\")\n",
        "\n",
        "plt.tight_layout()\n",
        "plt.show()\n"
      ]
    },
    {
      "cell_type": "markdown",
      "id": "5e06f111",
      "metadata": {
        "id": "5e06f111"
      },
      "source": [
        "## Estimate Order of Model: PACF\n",
        "One useful tool to identify the order of an AR model is to look at the Partial Autocorrelation Function (PACF). In this exercise, you will simulate two time series, an AR(1) and an AR(2), and calculate the sample PACF for each. You will notice that for an AR(1), the PACF should have a significant lag-1 value, and roughly zeros after that. And for an AR(2), the sample PACF should have significant lag-1 and lag-2 values, and zeros after that.\n",
        "\n",
        "Just like you used the plot_acf function in earlier exercises, here you will use a function called plot_pacf in the statsmodels module.\n",
        "\n",
        "Import the modules for simulating data and for plotting the PACF\n",
        "Simulate an AR(1) with  (remember that the sign for the AR parameter is reversed)\n",
        "Plot the PACF for simulated_data_1 using the plot_pacf function\n",
        "Simulate an AR(2) with\n",
        " (again, reverse the signs)\n",
        "Plot the PACF for simulated_data_2 using the plot_pacf function\n",
        "\n",
        "The PACF plot is similar to the ACF plot: the first plot is plot_pacf(simulated_data_1, lags=20)\n"
      ]
    },
    {
      "cell_type": "code",
      "execution_count": null,
      "id": "6d4c3a06",
      "metadata": {
        "id": "6d4c3a06"
      },
      "outputs": [],
      "source": [
        "\n",
        "# Simulate AR(1) with phi=0.6\n",
        "ar = np.array([1, -0.6])\n",
        "ma = np.array([1])\n",
        "AR_object = ArmaProcess(ar, ma)\n",
        "simulated_data_1 = AR_object.generate_sample(nsample=5000)\n",
        "\n",
        "# Plot PACF for AR(1)\n",
        "plot_pacf(simulated_data_1, lags=20)\n",
        "plt.show()\n",
        "\n",
        "# Simulate AR(2) with phi1=0.6, phi2=0.3\n",
        "ar = np.array([1, -0.6, -0.3])\n",
        "AR_object = ArmaProcess(ar, ma)\n",
        "simulated_data_2 = AR_object.generate_sample(nsample=5000)\n",
        "\n",
        "# Plot PACF for AR(2)\n",
        "plot_pacf(simulated_data_2, lags=20)\n",
        "plt.show()\n"
      ]
    },
    {
      "cell_type": "markdown",
      "id": "940cc98b",
      "metadata": {
        "id": "940cc98b"
      },
      "source": [
        "## Estimate Order of Model: Information Criteria\n",
        "Another tool to identify the order of a model is to look at the Akaike Information Criterion (AIC) and the Bayesian Information Criterion (BIC). These measures compute the goodness of fit with the estimated parameters, but apply a penalty function on the number of parameters in the model. You will take the AR(2) simulated data from the last exercise, saved as simulated_data_2, and compute the BIC as you vary the order, p, in an AR(p) from 0 to 6.\n",
        "\n",
        "Import the ARMA module for estimating the parameters and computing BIC.\n",
        "Initialize a numpy array BIC, which we will use to store the BIC for each AR(p) model.\n",
        "Loop through order p for p = 0,…,6.\n",
        "For each p, fit the data to an AR model of order p.\n",
        "For each p, save the value of BIC using the .bic attribute (no parentheses) of res.\n",
        "Plot BIC as a function of p (for the plot, skip p=0 and plot for p=1,…6)."
      ]
    },
    {
      "cell_type": "code",
      "execution_count": null,
      "id": "edce8a77",
      "metadata": {
        "id": "edce8a77"
      },
      "outputs": [],
      "source": [
        "\n",
        "# Compute BIC for AR(p), p=0 to 6\n",
        "BIC = np.zeros(7)\n",
        "for p in range(7):\n",
        "    mod = ARIMA(simulated_data_2, order=(p,0,0))\n",
        "    res = mod.fit()\n",
        "    BIC[p] = res.bic\n",
        "\n",
        "# Plot BIC\n",
        "plt.plot(range(1,7), BIC[1:7], marker='o')\n",
        "plt.xlabel('Order of AR Model')\n",
        "plt.ylabel('Bayesian Information Criterion')\n",
        "plt.show()\n"
      ]
    }
  ],
  "metadata": {
    "colab": {
      "provenance": []
    }
  },
  "nbformat": 4,
  "nbformat_minor": 5
}
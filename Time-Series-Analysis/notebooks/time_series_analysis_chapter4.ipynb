{
  "cells": [
    {
      "cell_type": "markdown",
      "id": "95db0438",
      "metadata": {
        "id": "95db0438"
      },
      "source": [
        "# Chapter 4: Simulating and Analyzing MA(1) Time Series"
      ]
    },
    {
      "cell_type": "markdown",
      "id": "a17f3b15",
      "metadata": {
        "id": "a17f3b15"
      },
      "source": [
        "## Simulate MA(1) Time Series\n",
        "\n",
        "You will simulate and plot a few MA(1) time series, each with a different parameter, using the `arima_process` module in `statsmodels`.\n",
        "\n",
        "As in the last chapter, when inputting the coefficients, you must include the zero-lag coefficient of 1. Unlike the AR models, the sign of the MA coefficients is what we expect. For example, for an MA(1) process with θ = 0.9, the array representing the MA parameters would be `ma = np.array([1, -0.9])`.\n"
      ]
    },
    {
      "cell_type": "code",
      "execution_count": null,
      "id": "c83cc678",
      "metadata": {
        "id": "c83cc678"
      },
      "outputs": [],
      "source": [
        "\n",
        "# Import necessary modules\n",
        "import numpy as np\n",
        "import matplotlib.pyplot as plt\n",
        "from statsmodels.tsa.arima_process import ArmaProcess\n",
        "\n",
        "# Plot 1: MA parameter = -0.9\n",
        "plt.figure(figsize=(10,6))\n",
        "\n",
        "plt.subplot(2,1,1)\n",
        "ar1 = np.array([1])\n",
        "ma1 = np.array([1, -0.9])\n",
        "MA_object1 = ArmaProcess(ar1, ma1)\n",
        "simulated_data_1 = MA_object1.generate_sample(nsample=1000)\n",
        "plt.plot(simulated_data_1)\n",
        "plt.title('Simulated MA(1) Process with θ = -0.9')\n",
        "\n",
        "# Plot 2: MA parameter = +0.9\n",
        "plt.subplot(2,1,2)\n",
        "ar2 = np.array([1])\n",
        "ma2 = np.array([1, 0.9])\n",
        "MA_object2 = ArmaProcess(ar2, ma2)\n",
        "simulated_data_2 = MA_object2.generate_sample(nsample=1000)\n",
        "plt.plot(simulated_data_2)\n",
        "plt.title('Simulated MA(1) Process with θ = 0.9')\n",
        "\n",
        "plt.tight_layout()\n",
        "plt.show()\n"
      ]
    },
    {
      "cell_type": "markdown",
      "id": "dbbe710f",
      "metadata": {
        "id": "dbbe710f"
      },
      "source": [
        "## Compute the ACF for Several MA Time Series\n",
        "\n",
        "Unlike an AR(1), an MA(1) model has no autocorrelation beyond lag 1. The lag-1 autocorrelation for an MA(1) model is not θ, but rather `θ / (1 + θ²)`. You will verify these autocorrelation functions for the three time series you generated earlier.\n",
        "simulated_data_1 is the first simulated time series with an MA parameter of .\n",
        "Compute the autocorrelation function of simulated_data_1 using the plot_acf function with 20 lags.\n"
      ]
    },
    {
      "cell_type": "code",
      "execution_count": null,
      "id": "9e7bbd3a",
      "metadata": {
        "id": "9e7bbd3a"
      },
      "outputs": [],
      "source": [
        "\n",
        "# Import the plot_acf module from statsmodels\n",
        "from statsmodels.graphics.tsaplots import plot_acf\n",
        "\n",
        "# Plot 1: MA parameter = -0.9\n",
        "plot_acf(simulated_data_1, lags=20)\n",
        "plt.show()\n",
        "\n",
        "# Plot 2: MA parameter = 0.9\n",
        "plot_acf(simulated_data_2, lags=20)\n",
        "plt.show()\n"
      ]
    },
    {
      "cell_type": "markdown",
      "id": "472131c1",
      "metadata": {
        "id": "472131c1"
      },
      "source": [
        "## Estimating an MA Model\n",
        "\n",
        "You will estimate the MA(1) parameter θ of one of the simulated series. Since the parameters are known for a simulated series, it is a good way to understand the estimation routines before applying them to real data.\n"
      ]
    },
    {
      "cell_type": "code",
      "execution_count": null,
      "id": "d7e8b279",
      "metadata": {
        "id": "d7e8b279"
      },
      "outputs": [],
      "source": [
        "\n",
        "# Import the ARMA module from statsmodels\n",
        "from statsmodels.tsa.arima.model import ARIMA\n",
        "\n",
        "# Fit an MA(1) model to the first simulated data\n",
        "mod = ARIMA(simulated_data_1, order=(0,0,1))\n",
        "res = mod.fit()\n",
        "\n",
        "# Print out summary information on the fit\n",
        "print(res.summary())\n",
        "\n",
        "# Print out the estimate for the constant and for theta\n",
        "print(\"When the true theta=-0.9, the estimate of theta (and the constant) are:\")\n",
        "print(res.params)\n"
      ]
    },
    {
      "cell_type": "markdown",
      "id": "0ed1ba78",
      "metadata": {
        "id": "0ed1ba78"
      },
      "source": [
        "## Forecasting with MA Model\n",
        "\n",
        "You will use the MA(1) model to forecast in-sample and out-of-sample data using statsmodels.For the simulated series simulated_data_1 with , you will plot in-sample and out-of-sample forecasts. One big difference you will see between out-of-sample forecasts with an MA(1) model and an AR(1) model is that the MA(1) forecasts more than one period in the future are simply the mean of the sample.\n",
        "\n"
      ]
    },
    {
      "cell_type": "code",
      "execution_count": null,
      "id": "a78e2190",
      "metadata": {
        "id": "a78e2190"
      },
      "outputs": [],
      "source": [
        "\n",
        "# Forecast the first MA(1) model\n",
        "res.plot_predict(start=990, end=1010)\n",
        "plt.show()\n"
      ]
    },
    {
      "cell_type": "markdown",
      "id": "4c11baac",
      "metadata": {
        "id": "4c11baac"
      },
      "source": [
        "## High Frequency Stock Prices\n",
        "\n",
        "Higher frequency stock data is well modeled by an MA(1) process, so it's a nice application of the models in this chapter.\n",
        "\n",
        "The DataFrame intraday contains one day's prices (on September 1, 2017) for Sprint stock (ticker symbol \"S\") sampled at a frequency of one minute. The stock market is open for 6.5 hours (390 minutes), from 9:30am to 4:00pm.\n",
        "\n",
        "Before you can analyze the time series data, you will have to clean it up a little, which you will do in this and the next two exercises. When you look at the first few rows (see the IPython Shell), you'll notice several things. First, there are no column headers.The data is not time stamped from 9:30 to 4:00, but rather goes from 0 to 390. And you will notice that the first date is the odd-looking \"a1504272600\". The number after the \"a\" is Unix time which is the number of seconds since January 1, 1970. This is how this dataset separates each day of intraday data.\n",
        "\n",
        "If you look at the data types, you'll notice that the DATE column is an object, which here means a string. You will need to change that to numeric before you can clean up some missing data.\n",
        "\n",
        "The source of the minute data is Google Finance"
      ]
    },
    {
      "cell_type": "code",
      "execution_count": null,
      "id": "fe7fabde",
      "metadata": {
        "id": "fe7fabde"
      },
      "outputs": [],
      "source": [
        "\n",
        "# Import pandas and datetime module\n",
        "import pandas as pd\n",
        "import datetime\n",
        "\n",
        "# Load the intraday data (assume it is already loaded as `intraday`)\n",
        "# Change the first date to zero\n",
        "intraday.iloc[0,0] = 0\n",
        "\n",
        "# Change the column headers to 'DATE' and 'CLOSE'\n",
        "intraday.columns = ['DATE','CLOSE']\n",
        "\n",
        "# Convert DATE column to numeric\n",
        "intraday['DATE'] = pd.to_numeric(intraday['DATE'])\n",
        "\n",
        "# Make the `DATE` column the new index\n",
        "intraday = intraday.set_index('DATE')\n"
      ]
    },
    {
      "cell_type": "markdown",
      "id": "4399d233",
      "metadata": {
        "id": "4399d233"
      },
      "source": [
        "## More Data Cleaning: Missing Data\n",
        "\n",
        "\n",
        "When you print out the length of the DataFrame intraday, you will notice that a few rows are missing. There will be missing data if there are no trades in a particular one-minute interval. One way to see which rows are missing is to take the difference of two sets: the full set of every minute and the set of the DataFrame index which contains missing rows. After filling in the missing rows, you can convert the index to time of day and then plot the data.\n",
        "\n",
        "Stocks trade at discrete one-cent increments (although a small percentage of trades occur in between the one-cent increments) rather than at continuous prices, and when you plot the data you should observe that there are long periods when the stock bounces back and forth over a one cent range. This is sometimes referred to as \"bid/ask bounce\".\n"
      ]
    },
    {
      "cell_type": "code",
      "execution_count": null,
      "id": "cae99bc0",
      "metadata": {
        "id": "cae99bc0"
      },
      "outputs": [],
      "source": [
        "\n",
        "# Identify missing rows\n",
        "set_everything = set(range(391))\n",
        "set_intraday = set(intraday.index)\n",
        "set_missing = set_everything - set_intraday\n",
        "\n",
        "print(\"Missing rows: \", set_missing)\n",
        "\n",
        "# Fill in missing rows\n",
        "intraday = intraday.reindex(range(391), method='ffill')\n",
        "\n",
        "# Change index to time format\n",
        "intraday.index = pd.date_range(start='2017-09-01 9:30', end='2017-09-01 16:00', freq='1min')\n",
        "\n",
        "# Plot intraday time series\n",
        "intraday.plot(grid=True)\n",
        "plt.show()\n"
      ]
    },
    {
      "cell_type": "markdown",
      "id": "784271b0",
      "metadata": {
        "id": "784271b0"
      },
      "source": [
        "## Applying an MA Model\n",
        "\n",
        "The bouncing of the stock price between bid and ask induces a negative first order autocorrelation, but no autocorrelations at lags higher than 1. You get the same ACF pattern with an MA(1) model. Therefore, you will fit an MA(1) model to the intraday stock data from the last exercise.\n",
        "\n",
        "The first step is to compute minute-by-minute returns from the prices in intraday, and plot the autocorrelation function. You should observe that the ACF looks like that for an MA(1) process. Then, fit the data to an MA(1), the same way you did for simulated data.\n"
      ]
    },
    {
      "cell_type": "code",
      "execution_count": null,
      "id": "153b2a1d",
      "metadata": {
        "id": "153b2a1d"
      },
      "outputs": [],
      "source": [
        "# Import plot_acf and ARMA modules from statsmodels\n",
        "from statsmodels.graphics.tsaplots import plot_acf\n",
        "from statsmodels.tsa.arima_model import ARMA\n",
        "\n",
        "# Compute returns from prices\n",
        "returns = intraday.pct_change().dropna()\n",
        "\n",
        "# Plot ACF of returns with lags up to 60 minutes\n",
        "plot_acf(returns, lags=60)\n",
        "plt.show()\n",
        "\n",
        "# Fit the returns data to an MA(1) model\n",
        "mod = ARIMA(returns, order=(0,0,1))\n",
        "res = mod.fit()\n",
        "print(res.params)\n"
      ]
    },
    {
      "cell_type": "markdown",
      "id": "b54cd96d",
      "metadata": {
        "id": "b54cd96d"
      },
      "source": [
        "## Equivalence of AR(1) and MA(infinity)\n",
        "\n",
        "To better understand the relationship between MA models and AR models, you will simulate an MA model with parameters for 30 lags and show that it has the same ACF as an AR(1) model.\n"
      ]
    },
    {
      "cell_type": "code",
      "execution_count": null,
      "id": "335d250a",
      "metadata": {
        "id": "335d250a"
      },
      "outputs": [],
      "source": [
        "\n",
        "# Simulate an MA(30) model\n",
        "ma = np.array([.8**i for i in range(30)])\n",
        "ar = np.array([1])\n",
        "AR_object = ArmaProcess(ar, ma)\n",
        "simulated_data = AR_object.generate_sample(nsample=5000)\n",
        "\n",
        "# Plot the ACF\n",
        "plot_acf(simulated_data, lags=30)\n",
        "plt.show()\n"
      ]
    }
  ],
  "metadata": {
    "colab": {
      "provenance": []
    }
  },
  "nbformat": 4,
  "nbformat_minor": 5
}
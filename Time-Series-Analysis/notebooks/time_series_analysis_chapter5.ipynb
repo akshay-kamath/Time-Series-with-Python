{
  "nbformat": 4,
  "nbformat_minor": 5,
  "metadata": {
    "colab": {
      "provenance": []
    }
  },
  "cells": [
    {
      "id": "86cfb371",
      "cell_type": "markdown",
      "source": [
        "# Time Series Analysis\n",
        "## Chapter 5: A Dog on a Leash?"
      ],
      "metadata": {
        "id": "86cfb371"
      }
    },
    {
      "id": "b0be12ed",
      "cell_type": "markdown",
      "source": [
        "### A Dog on a Leash? (Part 1)\n",
        "The Heating Oil and Natural Gas prices are pre-loaded in DataFrames `HO` and `NG`. We will plot both price series, which look like random walks. Then, we will plot the difference (spread) between the two series, which should look more like a mean-reverting series. To put both series in the same units, we multiply Heating Oil prices (in $/gallon) by 7.25 to convert it to $/millionBTU, the same unit as Natural Gas.  The data for continuous futures (each contract has to be spliced together in a continuous series as contracts expire) was obtained from Quandl.(https://blog.quandl.com/api-for-futures-data)\n"
      ],
      "metadata": {
        "id": "b0be12ed"
      }
    },
    {
      "id": "946ff29a",
      "cell_type": "code",
      "metadata": {
        "id": "946ff29a"
      },
      "execution_count": null,
      "source": [
        "import matplotlib.pyplot as plt\n",
        "\n",
        "# Plot the prices separately\n",
        "plt.figure(figsize=(10,6))\n",
        "plt.subplot(2,1,1)\n",
        "plt.plot(7.25*HO, label='Heating Oil')\n",
        "plt.plot(NG, label='Natural Gas')\n",
        "plt.legend(loc='best', fontsize='small')\n",
        "\n",
        "# Plot the spread\n",
        "plt.subplot(2,1,2)\n",
        "plt.plot(7.25*HO - NG, label='Spread')\n",
        "plt.legend(loc='best', fontsize='small')\n",
        "plt.axhline(y=0, linestyle='--', color='k')\n",
        "plt.show()"
      ],
      "outputs": []
    },
    {
      "id": "cd9a73af",
      "cell_type": "markdown",
      "source": [
        "### A Dog on a Leash? (Part 2)\n",
        "To verify that Heating Oil and Natural Gas prices are cointegrated, we will apply the Augmented Dickey-Fuller (ADF) test separately to each series and then to the spread to check for stationarity."
      ],
      "metadata": {
        "id": "cd9a73af"
      }
    },
    {
      "id": "9d15e35c",
      "cell_type": "code",
      "metadata": {
        "id": "9d15e35c"
      },
      "execution_count": null,
      "source": [
        "from statsmodels.tsa.stattools import adfuller\n",
        "\n",
        "# Compute the ADF for HO and NG\n",
        "result_HO = adfuller(HO['Close'])\n",
        "print('The p-value for the ADF test on HO is', result_HO[1])\n",
        "\n",
        "result_NG = adfuller(NG['Close'])\n",
        "print('The p-value for the ADF test on NG is', result_NG[1])\n",
        "\n",
        "# Compute the ADF of the spread\n",
        "result_spread = adfuller(7.25 * HO['Close'] - NG['Close'])\n",
        "print('The p-value for the ADF test on the spread is', result_spread[1])"
      ],
      "outputs": []
    },
    {
      "id": "a2f2a8c5",
      "cell_type": "markdown",
      "source": [
        "### Are Bitcoin and Ethereum Cointegrated?\n",
        "Cointegration involves two steps: regressing one time series on the other to get the cointegration vector, and then perform an ADF test on the residuals of the regression. In the last example, there was no need to perform the first step since we implicitly assumed the cointegration vector was . In other words, we took the difference between the two series (after doing a units conversion). Here, you will do both steps.\n",
        "\n",
        "You will regress the value of one cryptocurrency, bitcoin (BTC), on another cryptocurrency, ethereum (ETH). If we call the regression coefficient , then the cointegration vector is simply . Then perform the ADF test on BTC  ETH. Bitcoin and Ethereum prices are pre-loaded in DataFrames BTC and ETH.\n"
      ],
      "metadata": {
        "id": "a2f2a8c5"
      }
    },
    {
      "id": "705719d4",
      "cell_type": "code",
      "metadata": {
        "id": "705719d4"
      },
      "execution_count": null,
      "source": [
        "import statsmodels.api as sm\n",
        "\n",
        "# Regress BTC on ETH\n",
        "ETH = sm.add_constant(ETH)\n",
        "result = sm.OLS(BTC, ETH).fit()\n",
        "\n",
        "# Compute ADF\n",
        "b = result.params[1]\n",
        "adf_stats = adfuller(BTC['Price'] - b*ETH['Price'])\n",
        "print('The p-value for the ADF test is', adf_stats[1])"
      ],
      "outputs": []
    },
    {
      "id": "00686d27",
      "cell_type": "markdown",
      "source": [
        "### Is Temperature a Random Walk (with Drift)?\n",
        "An ARMA model is a simplistic approach to forecasting climate changes, but it illustrates many of the topics covered in this class.\n",
        "\n",
        "The DataFrame temp_NY contains the average annual temperature in Central Park, NY from 1870-2016 (the data was downloaded from the NOAA here). Plot the data and test whether it follows a random walk (with drift).\n"
      ],
      "metadata": {
        "id": "00686d27"
      }
    },
    {
      "id": "c3d4a6d0",
      "cell_type": "code",
      "metadata": {
        "id": "c3d4a6d0"
      },
      "execution_count": null,
      "source": [
        "from statsmodels.tsa.stattools import adfuller\n",
        "import pandas as pd\n",
        "\n",
        "# Convert the index to a datetime object\n",
        "temp_NY.index = pd.to_datetime(temp_NY.index, format='%Y')\n",
        "\n",
        "# Plot average temperatures\n",
        "temp_NY.plot()\n",
        "plt.show()\n",
        "\n",
        "# Compute and print ADF p-value\n",
        "result = adfuller(temp_NY['TAVG'])\n",
        "print('The p-value for the ADF test is', result[1])"
      ],
      "outputs": []
    },
    {
      "id": "737a3702",
      "cell_type": "markdown",
      "source": [
        "### Getting 'Warmed' Up: Look at Autocorrelations\n",
        "Since the temperature series, temp_NY, is a random walk with drift, take first differences to make it stationary. Then compute the sample ACF and PACF. This will provide some guidance on the order of the model.\n"
      ],
      "metadata": {
        "id": "737a3702"
      }
    },
    {
      "id": "3bde5a21",
      "cell_type": "code",
      "metadata": {
        "id": "3bde5a21"
      },
      "execution_count": null,
      "source": [
        "from statsmodels.graphics.tsaplots import plot_acf, plot_pacf\n",
        "\n",
        "# Take first difference of the temperature Series\n",
        "chg_temp = temp_NY.diff().dropna()\n",
        "\n",
        "# Plot the ACF and PACF\n",
        "fig, axes = plt.subplots(2,1, figsize=(10,6))\n",
        "plot_acf(chg_temp, lags=20, ax=axes[0])\n",
        "plot_pacf(chg_temp, lags=20, ax=axes[1])\n",
        "plt.show()"
      ],
      "outputs": []
    },
    {
      "id": "1ecc299b",
      "cell_type": "markdown",
      "source": [
        "### Which ARMA Model is Best?\n",
        "Recall from Chapter 3 that the Akaike Information Criterion (AIC) can be used to compare models with different numbers of parameters. It measures goodness-of-fit, but places a penalty on models with more parameters to discourage overfitting. Lower AIC scores are better.\n",
        "\n",
        "Fit the temperature data to an AR(1), AR(2), and ARMA(1,1) and see which model is the best fit, using the AIC criterion. The AR(2) and ARMA(1,1) models have one more parameter than the AR(1) has.\n",
        "\n",
        "The annual change in temperature is in a DataFrame chg_temp.\n",
        "\n",
        "For each ARMA model, create an instance of the ARMA class, passing the data and the order=(p,q). p is the autoregressive order; q is the moving average order.\n",
        "Fit the model using the method .fit().\n",
        "Print the AIC value, found in the .aic element of the results."
      ],
      "metadata": {
        "id": "1ecc299b"
      }
    },
    {
      "id": "3dfbc11c",
      "cell_type": "code",
      "metadata": {
        "id": "3dfbc11c"
      },
      "execution_count": null,
      "source": [
        "from statsmodels.tsa.arima_model import ARMA\n",
        "\n",
        "# Fit AR(1) model\n",
        "mod_ar1 = ARMA(chg_temp, order=(1,0))\n",
        "res_ar1 = mod_ar1.fit()\n",
        "print('The AIC for an AR(1) is:', res_ar1.aic)\n",
        "\n",
        "# Fit AR(2) model\n",
        "mod_ar2 = ARMA(chg_temp, order=(2,0))\n",
        "res_ar2 = mod_ar2.fit()\n",
        "print('The AIC for an AR(2) is:', res_ar2.aic)\n",
        "\n",
        "# Fit ARMA(1,1) model\n",
        "mod_arma11 = ARMA(chg_temp, order=(1,1))\n",
        "res_arma11 = mod_arma11.fit()\n",
        "print('The AIC for an ARMA(1,1) is:', res_arma11.aic)"
      ],
      "outputs": []
    },
    {
      "id": "3cb8c771",
      "cell_type": "markdown",
      "source": [
        "### Don't Throw Out That Winter Coat Yet\n",
        "Finally, you will forecast the temperature over the next 30 years using an ARMA(1,1) model, including confidence bands around that estimate. Keep in mind that the estimate of the drift will have a much bigger impact on long range forecasts than the ARMA parameters.\n",
        "\n",
        "Earlier, you determined that the temperature data follows a random walk and you looked at first differencing the data. In this exercise, you will use the ARIMA module on the temperature data (before differencing), which is identical to using the ARMA module on changes in temperature, followed by taking cumulative sums of these changes to get the temperature forecast.\n",
        "\n",
        "The data is preloaded in a DataFrame called temp_NY.\n",
        "\n",
        "Create an instance of the ARIMA class called mod for an integrated ARMA(1,1) model\n",
        "The d in order(p,d,q) is one, since we first differenced once\n",
        "Fit mod using the .fit() method and call the results res\n",
        "Forecast the series using the plot_predict() method on res\n",
        "Choose the start date as 1872-01-01 and the end date as 2046-01-01"
      ],
      "metadata": {
        "id": "3cb8c771"
      }
    },
    {
      "id": "c46837ab",
      "cell_type": "code",
      "metadata": {
        "id": "c46837ab"
      },
      "execution_count": null,
      "source": [
        "from statsmodels.tsa.arima_model import ARIMA\n",
        "\n",
        "# Forecast temperatures using ARIMA(1,1,1)\n",
        "mod = ARIMA(temp_NY, order=(1,1,1))\n",
        "res = mod.fit()\n",
        "\n",
        "# Plot the forecast\n",
        "res.plot_predict(start='1872-01-01', end='2046-01-01')\n",
        "plt.show()"
      ],
      "outputs": []
    }
  ]
}
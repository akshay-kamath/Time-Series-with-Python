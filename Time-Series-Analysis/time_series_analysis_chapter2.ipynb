{
  "cells": [
    {
      "cell_type": "markdown",
      "id": "b3b98b2a",
      "metadata": {
        "id": "b3b98b2a"
      },
      "source": [
        "# Time Series Analysis Exercises"
      ]
    },
    {
      "cell_type": "markdown",
      "id": "64be0524",
      "metadata": {
        "id": "64be0524"
      },
      "source": [
        "## Chapter 2: Taxing Exercise - Compute the ACF\n",
        "In this exercise, you will compute the array of autocorrelations for the H&R Block quarterly earnings and plot the autocorrelation function.You will compute the array of autocorrelations for the H&R Block quarterly earnings that is pre-loaded in the DataFrame HRB. Then, plot the autocorrelation function using the plot_acf module. This plot shows what the autocorrelation function looks like for cyclical earnings data. The ACF at lag=0 is always one, of course. In the next exercise, you will learn about the confidence interval for the ACF, but for now, suppress the confidence interval by setting alpha=1.\n"
      ]
    },
    {
      "cell_type": "code",
      "execution_count": null,
      "id": "ee8670d8",
      "metadata": {
        "id": "ee8670d8"
      },
      "outputs": [],
      "source": [
        "from statsmodels.tsa.stattools import acf\n",
        "from statsmodels.graphics.tsaplots import plot_acf\n",
        "import matplotlib.pyplot as plt\n",
        "\n",
        "# Compute the acf array of HRB\n",
        "acf_array = acf(HRB)\n",
        "print(acf_array)\n",
        "\n",
        "# Plot the acf function\n",
        "plot_acf(HRB, alpha=1)\n",
        "plt.show()"
      ]
    },
    {
      "cell_type": "markdown",
      "id": "48e2704b",
      "metadata": {
        "id": "48e2704b"
      },
      "source": [
        "## Are We Confident This Stock is Mean Reverting?\n",
        "In the last chapter, you saw that the autocorrelation of MSFT's weekly stock returns was -0.16. That autocorrelation seems large, but is it statistically significant? In other words, can you say that there is less than a 5% chance that we would observe such a large negative autocorrelation if the true autocorrelation were really zero? And are there any autocorrelations at other lags that are significantly different from zero?\n",
        "\n",
        "Even if the true autocorrelations were zero at all lags, in a finite sample of returns you won't see the estimate of the autocorrelations exactly zero. In fact, the standard deviation of the sample autocorrelation is  where  is the number of observations, so if , for example, the standard deviation of the ACF is 0.1, and since 95% of a normal curve is between +1.96 and -1.96 standard deviations from the mean, the 95% confidence interval is . This approximation only holds when the true autocorrelations are all zero.\n",
        "\n",
        "You will compute the actual and approximate confidence interval for the ACF, and compare it to the lag-one autocorrelation of -0.16 from the last chapter. The weekly returns of Microsoft is pre-loaded in a DataFrame called returns.\n"
      ]
    },
    {
      "cell_type": "code",
      "execution_count": null,
      "id": "3f0c8f30",
      "metadata": {
        "id": "3f0c8f30"
      },
      "outputs": [],
      "source": [
        "from statsmodels.graphics.tsaplots import plot_acf\n",
        "from math import sqrt\n",
        "\n",
        "# Compute and print the autocorrelation of MSFT weekly returns\n",
        "autocorrelation = returns['Adj Close'].autocorr()\n",
        "print(f'The autocorrelation of weekly MSFT returns is {autocorrelation:.2f}')\n",
        "\n",
        "# Find the number of observations\n",
        "nobs = len(returns)\n",
        "\n",
        "# Compute the approximate confidence interval\n",
        "conf = 1.96/sqrt(nobs)\n",
        "print(f'The approximate confidence interval is +/- {conf:.2f}')\n",
        "\n",
        "# Plot the autocorrelation function\n",
        "plot_acf(returns, alpha=0.05, lags=20)\n",
        "plt.show()"
      ]
    },
    {
      "cell_type": "markdown",
      "id": "cd0e19b6",
      "metadata": {
        "id": "cd0e19b6"
      },
      "source": [
        "## Can't Forecast White Noise\n",
        "A white noise time series is simply a sequence of uncorrelated random variables that are identically distributed. Stock returns are often modeled as white noise. Unfortunately, for white noise, we cannot forecast future observations based on the past - autocorrelations at all lags are zero.\n",
        "\n",
        "You will generate a white noise series and plot the autocorrelation function to show that it is zero for all lags. You can use np.random.normal() to generate random returns. For a Gaussian white noise process, the mean and standard deviation describe the entire process.\n",
        "\n",
        "Plot this white noise series to see what it looks like, and then plot the autocorrelation function.\n"
      ]
    },
    {
      "cell_type": "code",
      "execution_count": null,
      "id": "7cb07e5f",
      "metadata": {
        "id": "7cb07e5f"
      },
      "outputs": [],
      "source": [
        "import numpy as np\n",
        "\n",
        "# Simulate white noise returns\n",
        "returns = np.random.normal(loc=0.02, scale=0.05, size=1000)\n",
        "\n",
        "# Print mean and standard deviation\n",
        "mean = np.mean(returns)\n",
        "std = np.std(returns)\n",
        "print(f'The mean is {mean:.3f} and the standard deviation is {std:.3f}')\n",
        "\n",
        "# Plot returns series\n",
        "plt.plot(returns)\n",
        "plt.show()\n",
        "\n",
        "# Plot autocorrelation function\n",
        "plot_acf(returns, lags=20)\n",
        "plt.show()"
      ]
    },
    {
      "cell_type": "markdown",
      "id": "ffdb30a6",
      "metadata": {
        "id": "ffdb30a6"
      },
      "source": [
        "## Generate a Random Walk\n",
        "Whereas stock returns are often modeled as white noise, stock prices closely follow a random walk. In other words, today's price is yesterday's price plus some random noise.\n",
        "\n",
        "You will simulate the price of a stock over time that has a starting price of 100 and every day goes up or down by a random amount. Then, plot the simulated stock price. If you hit the \"Run Code\" code button multiple times, you'll see several realizations.\n"
      ]
    },
    {
      "cell_type": "code",
      "execution_count": null,
      "id": "942bae04",
      "metadata": {
        "id": "942bae04"
      },
      "outputs": [],
      "source": [
        "# Generate random steps\n",
        "steps = np.random.normal(loc=0, scale=1.0, size=500)\n",
        "steps[0] = 0\n",
        "\n",
        "# Simulate stock prices\n",
        "P = 100 + np.cumsum(steps)\n",
        "\n",
        "# Plot the simulated stock prices\n",
        "plt.plot(P)\n",
        "plt.title('Simulated Random Walk')\n",
        "plt.show()"
      ]
    },
    {
      "cell_type": "markdown",
      "id": "7d20fa3d",
      "metadata": {
        "id": "7d20fa3d"
      },
      "source": [
        "## Get the Drift\n",
        "In the last exercise, you simulated stock prices that follow a random walk. You will extend this in two ways in this exercise.\n",
        "\n",
        "You will look at a random walk with a drift. Many time series, like stock prices, are random walks but tend to drift up over time.\n",
        "In the last exercise, the noise in the random walk was additive: random, normal changes in price were added to the last price. However, when adding noise, you could theoretically get negative prices. Now you will make the noise multiplicative: you will add one to the random, normal changes to get a total return, and multiply that by the last price.\n"
      ]
    },
    {
      "cell_type": "code",
      "execution_count": null,
      "id": "71fa45e1",
      "metadata": {
        "id": "71fa45e1"
      },
      "outputs": [],
      "source": [
        "# Generate random steps with drift\n",
        "steps = np.random.normal(loc=0.001, scale=0.01, size=500) + 1\n",
        "steps[0] = 1\n",
        "\n",
        "# Simulate the stock price\n",
        "P = 100 * np.cumprod(steps)\n",
        "\n",
        "# Plot the simulated stock prices\n",
        "plt.plot(P)\n",
        "plt.title('Simulated Random Walk with Drift')\n",
        "plt.show()"
      ]
    },
    {
      "cell_type": "markdown",
      "id": "f49b90f8",
      "metadata": {
        "id": "f49b90f8"
      },
      "source": [
        "## Are Stock Prices a Random Walk?\n",
        "Most stock prices follow a random walk (perhaps with a drift). You will look at a time series of Amazon stock prices, pre-loaded in the DataFrame AMZN, and run the 'Augmented Dickey-Fuller Test' from the statsmodels library to show that it does indeed follow a random walk.\n",
        "\n",
        "With the ADF test, the \"null hypothesis\" (the hypothesis that we either reject or fail to reject) is that the series follows a random walk. Therefore, a low p-value (say less than 5%) means we can reject the null hypothesis that the series is a random walk.\n"
      ]
    },
    {
      "cell_type": "code",
      "execution_count": null,
      "id": "28702c8a",
      "metadata": {
        "id": "28702c8a"
      },
      "outputs": [],
      "source": [
        "from statsmodels.tsa.stattools import adfuller\n",
        "\n",
        "# Run ADF test\n",
        "results = adfuller(AMZN['Adj Close'])\n",
        "print(results)\n",
        "\n",
        "# Print the p-value\n",
        "print(f'The p-value of the test on prices is: {results[1]}')"
      ]
    },
    {
      "cell_type": "markdown",
      "id": "e1b561e5",
      "metadata": {
        "id": "e1b561e5"
      },
      "source": [
        "## How About Stock Returns?\n",
        " In this exercise. you will do the same thing for Amazon returns (percent change in prices) and show that the returns do not follow a random walk.\n",
        "\n"
      ]
    },
    {
      "cell_type": "code",
      "execution_count": null,
      "id": "829baf78",
      "metadata": {
        "id": "829baf78"
      },
      "outputs": [],
      "source": [
        "# Compute returns\n",
        "AMZN_ret = AMZN.pct_change().dropna()\n",
        "\n",
        "# Run ADF test\n",
        "results = adfuller(AMZN_ret['Adj Close'])\n",
        "print(f'The p-value of the test on returns is: {results[1]}')"
      ]
    },
    {
      "cell_type": "markdown",
      "id": "23fa26f6",
      "metadata": {
        "id": "23fa26f6"
      },
      "source": [
        "## Seasonal Adjustment During Tax Season\n",
        "Many time series exhibit strong seasonal behavior. The procedure for removing the seasonal component of a time series is called seasonal adjustment. For example, most economic data published by the government is seasonally adjusted.\n",
        "\n",
        "You saw earlier that by taking first differences of a random walk, you get a stationary white noise process. For seasonal adjustments, instead of taking first differences, you will take differences with a lag corresponding to the periodicity.\n",
        "\n",
        "Look again at the ACF of H&R Block's quarterly earnings, pre-loaded in the DataFrame HRB, and there is a clear seasonal component. The autocorrelation is high for lags 4,8,12,16,… because of the spike in earnings every four quarters during tax season. Apply a seasonal adjustment by taking the fourth difference (four represents the periodicity of the series). Then compute the autocorrelation of the transformed series.\n"
      ]
    },
    {
      "cell_type": "code",
      "execution_count": null,
      "id": "238a6e3b",
      "metadata": {
        "id": "238a6e3b"
      },
      "outputs": [],
      "source": [
        "# Import the plot_acf module from statsmodels\n",
        "from statsmodels.graphics.tsaplots import plot_acf\n",
        "\n",
        "# Seasonally adjust quarterly earnings\n",
        "HRBsa = HRB.diff(4)\n",
        "\n",
        "# Print the first 10 rows of the seasonally adjusted series\n",
        "print(HRBsa.head(10))\n",
        "\n",
        "# Seasonally adjust earnings\n",
        "HRBsa = HRB.diff(4).dropna()\n",
        "\n",
        "# Plot ACF of seasonally adjusted series\n",
        "plot_acf(HRBsa)\n",
        "plt.show()"
      ]
    }
  ],
  "metadata": {
    "colab": {
      "provenance": []
    }
  },
  "nbformat": 4,
  "nbformat_minor": 5
}
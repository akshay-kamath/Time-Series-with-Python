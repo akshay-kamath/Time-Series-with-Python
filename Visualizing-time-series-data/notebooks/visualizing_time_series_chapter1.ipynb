{
  "cells": [
    {
      "cell_type": "markdown",
      "id": "de940852",
      "metadata": {
        "id": "de940852"
      },
      "source": [
        "# Chapter 1: Visualizing Time Series\n",
        "## Test whether your data is of the correct type\n",
        "When working with time series data in pandas, any date information should be formatted as a `datetime64` type. You can check the type of each column in a DataFrame by using the `.dtypes` attribute. If your date columns come as strings or epochs, use `to_datetime()` to convert them.\n",
        "```python\n",
        "df['date_column'] = pd.to_datetime(df['date_column'])\n",
        "```\n",
        "In this exercise, you will learn how to check the data type of the columns in your time series data and convert a date column to the appropriate datetime type."
      ]
    },
    {
      "cell_type": "code",
      "execution_count": null,
      "id": "ca46c9cd",
      "metadata": {
        "id": "ca46c9cd"
      },
      "outputs": [],
      "source": [
        "# Print the data type of each column in discoveries\n",
        "discoveries.dtypes"
      ]
    },
    {
      "cell_type": "code",
      "execution_count": null,
      "id": "e8073feb",
      "metadata": {
        "id": "e8073feb"
      },
      "outputs": [],
      "source": [
        "# Convert the date column to a datestamp type\n",
        "discoveries['date'] = pd.to_datetime(discoveries['date'])"
      ]
    },
    {
      "cell_type": "code",
      "execution_count": null,
      "id": "d203a3e0",
      "metadata": {
        "id": "d203a3e0"
      },
      "outputs": [],
      "source": [
        "# Print the data type of each column in discoveries, again\n",
        "discoveries.dtypes"
      ]
    },
    {
      "cell_type": "markdown",
      "id": "b795a1d7",
      "metadata": {
        "id": "b795a1d7"
      },
      "source": [
        "## Your first plot!\n",
        "Let's take everything you have learned so far and plot your first time series plot using `matplotlib`.\n",
        "\n",
        "matplotlib is the most widely used plotting library in Python, and would be the most appropriate tool for this job. Fortunately for us, the pandas library has implemented a .plot() method on Series and DataFrame objects that is a wrapper around matplotlib.pyplot.plot(), which makes it easier to produce plots.\n",
        "\n",
        "1. Set the 'date' column as the index of your DataFrame.\n",
        "2. Plot the time series in your DataFrame using a blue line.\n",
        "3. Label the x-axis as 'Date' and the y-axis as 'Number of great discoveries'."
      ]
    },
    {
      "cell_type": "code",
      "execution_count": null,
      "id": "6712f937",
      "metadata": {
        "id": "6712f937"
      },
      "outputs": [],
      "source": [
        "# Set the date column as the index of your DataFrame discoveries\n",
        "discoveries = discoveries.set_index('date')\n",
        "\n",
        "# Plot the time series in your DataFrame\n",
        "ax = discoveries.plot(color='blue')\n",
        "\n",
        "# Specify the x-axis label in your plot\n",
        "ax.set_xlabel('Date')\n",
        "\n",
        "# Specify the y-axis label in your plot\n",
        "ax.set_ylabel('Number of great discoveries')\n",
        "\n",
        "# Show plot\n",
        "plt.show()"
      ]
    },
    {
      "cell_type": "markdown",
      "id": "3089e3ff",
      "metadata": {
        "id": "3089e3ff"
      },
      "source": [
        "## Specify plot styles\n",
        "\n",
        "The matplotlib library also comes with a number of built-in stylesheets that allow you to customize the appearance of your plots. To use a particular style sheet for your plots, you can use the command plt.style.use(your_stylesheet) where your_stylesheet is the name of the style sheet.\n",
        "\n",
        "In order to see the list of available style sheets that can be used, you can use the command print(plt.style.available). For the rest of this course, we will use the awesome fivethirtyeight style sheet.\n",
        "Import matplotlib.pyplot using its usual alias plt.\n",
        "Use the fivethirtyeight style sheet to plot a line plot of the discoveries data."
      ]
    },
    {
      "cell_type": "code",
      "execution_count": null,
      "id": "8786d5b8",
      "metadata": {
        "id": "8786d5b8"
      },
      "outputs": [],
      "source": [
        "# Import the matplotlib.pyplot sub-module\n",
        "import matplotlib.pyplot as plt\n",
        "\n",
        "# Use the fivethirtyeight style\n",
        "plt.style.use('fivethirtyeight')\n",
        "\n",
        "# Plot the time series\n",
        "ax1 = discoveries.plot()\n",
        "ax1.set_title('FiveThirtyEight Style')\n",
        "plt.show()"
      ]
    },
    {
      "cell_type": "markdown",
      "id": "294d8243",
      "metadata": {
        "id": "294d8243"
      },
      "source": [
        "Use the `ggplot` style sheet and set the title of your second plot as 'ggplot Style'."
      ]
    },
    {
      "cell_type": "code",
      "execution_count": null,
      "id": "695872ac",
      "metadata": {
        "id": "695872ac"
      },
      "outputs": [],
      "source": [
        "# Use the ggplot style\n",
        "plt.style.use('ggplot')\n",
        "ax2 = discoveries.plot()\n",
        "\n",
        "# Set the title\n",
        "ax2.set_title('ggplot Style')\n",
        "plt.show()"
      ]
    },
    {
      "cell_type": "markdown",
      "id": "2e3fc9cd",
      "metadata": {
        "id": "2e3fc9cd"
      },
      "source": [
        "## Display and label plots\n",
        "As you saw earlier, if the index of a pandas DataFrame consists of dates, then pandas will automatically format the x-axis in a human-readable way. In addition the .plot() method allows you to specify various other parameters to tailor your time series plot (color of the lines, width of the lines and figure size).\n",
        "\n",
        "You may have noticed the use of the notation ax = df.plot(...) and wondered about the purpose of the ax object. This is because the plot function returns a matplotlib AxesSubplot object, and it is common practice to assign this returned object to a variable called ax. Doing so also allows you to include additional notations and specifications to your plot such as axis labels.\n",
        "\n",
        "Display a line chart of the discoveries DataFrame."
      ]
    },
    {
      "cell_type": "code",
      "execution_count": null,
      "id": "0e6287a3",
      "metadata": {
        "id": "0e6287a3"
      },
      "outputs": [],
      "source": [
        "# Plot a line chart of the discoveries DataFrame using the specified arguments\n",
        "ax = discoveries.plot(color='blue', figsize=(8, 3), linewidth=2, fontsize=6)\n",
        "\n",
        "# Specify the title in your plot\n",
        "ax.set_title('Number of great inventions and scientific discoveries from 1860 to 1959', fontsize=8)\n",
        "\n",
        "# Show plot\n",
        "plt.show()"
      ]
    },
    {
      "cell_type": "markdown",
      "id": "880a807c",
      "metadata": {
        "id": "880a807c"
      },
      "source": [
        "## Subset time series data\n",
        "When plotting time series data, you may occasionally want to visualize only a subset of the data. The pandas library provides powerful indexing and subsetting methods that allow you to extract specific portions of a DataFrame. For example, you can subset all the data between 1950 and 1960 in the discoveries DataFrame by specifying the following date range:\n",
        "\n",
        "subset_data = discoveries['1950-01-01':'1960-01-01']\n",
        "Note: Subsetting your data this way is only possible if the index of your DataFrame contains dates of the datetime type. Failing that, the pandas library will return an error message.\n",
        "\n",
        "Use discoveries to create a new DataFrame discoveries_subset_1 that contains all the data between January 1, 1945 and January 1, 1950.\n",
        "Plot the time series of discoveries_subset_1 using a \"blue\" line plot."
      ]
    },
    {
      "cell_type": "code",
      "execution_count": null,
      "id": "ba5a8fb8",
      "metadata": {
        "id": "ba5a8fb8"
      },
      "outputs": [],
      "source": [
        "# Select the subset of data between 1945 and 1950\n",
        "discoveries_subset_1 = discoveries['1945-01-01':'1950-01-01']\n",
        "\n",
        "# Plot the time series in your DataFrame as a blue area chart\n",
        "ax = discoveries_subset_1.plot(color='blue', fontsize=15)\n",
        "\n",
        "# Show plot\n",
        "plt.show()"
      ]
    },
    {
      "cell_type": "code",
      "execution_count": null,
      "id": "69610c5e",
      "metadata": {
        "id": "69610c5e"
      },
      "outputs": [],
      "source": [
        "# Select the subset of data between 1939 and 1958\n",
        "discoveries_subset_2 = discoveries['1939-01-01':'1958-01-01']\n",
        "\n",
        "# Plot the time series in your DataFrame as a blue area chart\n",
        "ax = discoveries_subset_2.plot(color='blue', fontsize=15)\n",
        "\n",
        "# Show plot\n",
        "plt.show()"
      ]
    },
    {
      "cell_type": "markdown",
      "id": "aebb6e15",
      "metadata": {
        "id": "aebb6e15"
      },
      "source": [
        "## Add vertical and horizontal markers\n",
        "Additional annotations can help further emphasize specific observations or events. Here, you will learn how to highlight significant events by adding markers at specific timestamps of your time series plot. The matplotlib library makes it possible to draw vertical and horizontal lines to identify particular dates.\n",
        "\n",
        "Recall that the index of the discoveries DataFrame are of the datetime type, so the x-axis values of a plot will also contain dates, and it is possible to directly input a date when annotating your plots with vertical lines. For example, a vertical line at January 1, 1945 can be added to your plot by using the command:\n",
        "\n",
        "ax.axvline('1945-01-01', linestyle='--')\n",
        "Add a red vertical line at the date January 1, 1939 using the .axvline() method.\n",
        "Add a green horizontal line at the y-axis value 4 using the .axhline() method."
      ]
    },
    {
      "cell_type": "code",
      "execution_count": null,
      "id": "9ea89c04",
      "metadata": {
        "id": "9ea89c04"
      },
      "outputs": [],
      "source": [
        "# Plot your the discoveries time series\n",
        "ax = discoveries.plot(color='blue', fontsize=6)\n",
        "\n",
        "# Add a red vertical line\n",
        "ax.axvline('1939-01-01', color='red', linestyle='--')\n",
        "\n",
        "# Add a green horizontal line\n",
        "ax.axhline(4, color='green', linestyle='--')\n",
        "\n",
        "plt.show()"
      ]
    },
    {
      "cell_type": "markdown",
      "id": "2351a630",
      "metadata": {
        "id": "2351a630"
      },
      "source": [
        "## Add shaded regions to your plot\n",
        "When plotting time series data in Python, it is also possible to highlight complete regions of your time series plot. In order to add a shaded region between January 1, 1936 and January 1, 1950, you can use the command:\n",
        "\n",
        "ax.axvspan('1936-01-01', '1950-01-01', color='red' , alpha=0.5)\n",
        "Here we specified the overall transparency of the region by using the alpha argument (where 0 is completely transparent and 1 is full color).\n",
        "Use the .axvspan() method to add a vertical red shaded region between the dates of January 1, 1900 and January 1, 1915 with a transparency of 0.3.\n",
        "Use the .axhspan() method to add a horizontal green shaded region between the values of 6 and 8 with a transparency of 0.3.\n"
      ]
    },
    {
      "cell_type": "code",
      "execution_count": null,
      "id": "ed829622",
      "metadata": {
        "id": "ed829622"
      },
      "outputs": [],
      "source": [
        "# Plot your the discoveries time series\n",
        "ax = discoveries.plot(color='blue', fontsize=6)\n",
        "\n",
        "# Add a vertical red shaded region between the dates of 1900-01-01 and 1915-01-01\n",
        "ax.axvspan('1900-01-01', '1915-01-01', color='red', alpha=0.3)\n",
        "\n",
        "# Add a horizontal green shaded region between the values of 6 and 8\n",
        "ax.axhspan(6, 8, color='green', alpha=0.3)\n",
        "\n",
        "plt.show()"
      ]
    }
  ],
  "metadata": {
    "colab": {
      "provenance": []
    }
  },
  "nbformat": 4,
  "nbformat_minor": 5
}
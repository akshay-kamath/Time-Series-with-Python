{
  "cells": [
    {
      "cell_type": "markdown",
      "id": "008784ec",
      "metadata": {
        "id": "008784ec"
      },
      "source": [
        "# Chapter 2: Time Series Data Cleaning and Visualization\n",
        "## Find missing values\n",
        "Time series data often contains missing values due to recording failures.\n",
        "Use `.isnull().sum()` to count missing values in the DataFrame."
      ]
    },
    {
      "cell_type": "code",
      "execution_count": null,
      "id": "7ea73936",
      "metadata": {
        "id": "7ea73936"
      },
      "outputs": [],
      "source": [
        "# Display first seven rows of co2_levels\n",
        "print(co2_levels.head(7))"
      ]
    },
    {
      "cell_type": "code",
      "execution_count": null,
      "id": "9b1133d5",
      "metadata": {
        "id": "9b1133d5"
      },
      "outputs": [],
      "source": [
        "# Set datestamp column as index\n",
        "co2_levels = co2_levels.set_index('datestamp')\n",
        "\n",
        "# Print out the number of missing values\n",
        "print(co2_levels.isnull().sum())"
      ]
    },
    {
      "cell_type": "markdown",
      "id": "8b598626",
      "metadata": {
        "id": "8b598626"
      },
      "source": [
        "## Handle missing values\n",
        "In order to replace missing values in your time series data, you can use the command:\n",
        "\n",
        "df = df.fillna(method=\"ffill\")\n",
        "where the argument specifies the type of method you want to use. For example, specifying bfill (i.e backfilling) will ensure that missing values are replaced using the next valid observation, while ffill (i.e. forward-filling) ensures that missing values are replaced using the last valid observation.\n",
        "To impute missing values by backfilling, use the .fillna() method with method='bfill'.\n",
        "To print the number of missing values, call .isnull() and .sum() on the DataFrame."
      ]
    },
    {
      "cell_type": "code",
      "execution_count": null,
      "id": "567e8e96",
      "metadata": {
        "id": "567e8e96"
      },
      "outputs": [],
      "source": [
        "# Impute missing values with the next valid observation\n",
        "co2_levels = co2_levels.fillna(method='bfill')\n",
        "\n",
        "# Print out the number of missing values\n",
        "print(co2_levels.isnull().sum())"
      ]
    },
    {
      "cell_type": "markdown",
      "id": "544fd0e5",
      "metadata": {
        "id": "544fd0e5"
      },
      "source": [
        "## Display rolling averages\n",
        "It is also possible to visualize rolling averages of the values in your time series. This is equivalent to \"smoothing\" your data, and can be particularly useful when your time series contains a lot of noise or outliers. For a given DataFrame df, you can obtain the rolling average of the time series by using the command:\n",
        "\n",
        "df_mean = df.rolling(window=12).mean()\n",
        "The window parameter should be set according to the granularity of your time series. For example, if your time series contains daily data and you are looking for rolling values over a whole year, you should specify the parameter to window=365. In addition, it is easy to get rolling values for other other metrics, such as the standard deviation (.std()) or variance (.var()).\n"
      ]
    },
    {
      "cell_type": "code",
      "execution_count": null,
      "id": "38ab3efd",
      "metadata": {
        "id": "38ab3efd"
      },
      "outputs": [],
      "source": [
        "# Compute the 52 weeks rolling mean of the co2_levels DataFrame\n",
        "ma = co2_levels.rolling(window=52).mean()\n",
        "\n",
        "# Compute the 52 weeks rolling standard deviation of the co2_levels DataFrame\n",
        "mstd = co2_levels.rolling(window=52).std()\n",
        "\n",
        "# Add the upper and lower bound columns to the ma DataFrame\n",
        "ma['upper'] = ma['co2'] + (mstd['co2'] * 2)\n",
        "ma['lower'] = ma['co2'] - (mstd['co2'] * 2)\n",
        "\n",
        "# Plot the content of the ma DataFrame\n",
        "ax = ma.plot(linewidth=0.8, fontsize=6)\n",
        "\n",
        "# Specify labels, legend, and show the plot\n",
        "ax.set_xlabel('Date', fontsize=10)\n",
        "ax.set_ylabel('CO2 levels in Mauai Hawaii', fontsize=10)\n",
        "ax.set_title('Rolling mean and variance of CO2 levels\\nin Mauai Hawaii from 1958 to 2001', fontsize=10)\n",
        "plt.show()"
      ]
    },
    {
      "cell_type": "markdown",
      "id": "fcb862c2",
      "metadata": {
        "id": "fcb862c2"
      },
      "source": [
        "## Display aggregated values\n",
        "Extract the month from the index and compute the mean CO2 levels for each month of the year."
      ]
    },
    {
      "cell_type": "code",
      "execution_count": null,
      "id": "4395ac83",
      "metadata": {
        "id": "4395ac83"
      },
      "outputs": [],
      "source": [
        "# Get month for each date in the index of co2_levels\n",
        "index_month = co2_levels.index.month\n",
        "\n",
        "# Compute the mean CO2 levels for each month of the year\n",
        "mean_co2_levels_by_month = co2_levels.groupby(index_month).mean()\n",
        "\n",
        "# Plot the mean CO2 levels for each month of the year\n",
        "mean_co2_levels_by_month.plot(fontsize=6)\n",
        "\n",
        "# Specify the fontsize on the legend\n",
        "plt.legend(fontsize=10)\n",
        "\n",
        "# Show plot\n",
        "plt.show()"
      ]
    },
    {
      "cell_type": "markdown",
      "id": "946c7e4d",
      "metadata": {
        "id": "946c7e4d"
      },
      "source": [
        "## Compute numerical summaries\n",
        "You have learnt how to display and annotate time series data in multiple ways, but it is also informative to collect summary statistics of your data. Being able to achieve this task will allow you to share and discuss statistical properties of your data that can further support the plots you generate. In pandas, it is possible to quickly obtain summaries of columns in your DataFrame by using the command: print(df.describe())\n",
        "\n",
        "Use `.describe()` to generate summary statistics of your data."
      ]
    },
    {
      "cell_type": "code",
      "execution_count": null,
      "id": "7faea47a",
      "metadata": {
        "id": "7faea47a"
      },
      "outputs": [],
      "source": [
        "# Print out summary statistics of the co2_levels DataFrame\n",
        "print(co2_levels.describe())\n",
        "\n",
        "# Print out the minima of the co2 column in the co2_levels DataFrame\n",
        "print(313.0)\n",
        "\n",
        "# Print out the maxima of the co2 column in the co2_levels DataFrame\n",
        "print(373.9)"
      ]
    },
    {
      "cell_type": "markdown",
      "id": "43dfe7ee",
      "metadata": {
        "id": "43dfe7ee"
      },
      "source": [
        "## Boxplots and Histograms\n",
        ".Boxplots represent a graphical rendition of the minimum, median, quartiles, and maximum of your data. You can generate a boxplot by calling the .boxplot() method on a DataFrame.\n",
        "\n",
        "Another method to produce visual summaries is by leveraging histograms, which allow you to inspect the data and uncover its underlying distribution, as well as the presence of outliers and overall spread. An example of how to generate a histogram is shown below:\n",
        "\n",
        "ax = co2_levels.plot(kind='hist', bins=100)\n",
        "Here, we used the standard .plot() method but specified the kind argument to be 'hist'. In addition, we also added the bins=100 parameter, which specifies how many intervals (i.e bins) we should cut our data into.\n",
        "Using the co2_levels DataFrame, produce a boxplot of the CO2 level data."
      ]
    },
    {
      "cell_type": "code",
      "execution_count": null,
      "id": "8d75b31b",
      "metadata": {
        "id": "8d75b31b"
      },
      "outputs": [],
      "source": [
        "# Generate a boxplot\n",
        "ax = co2_levels.boxplot()\n",
        "\n",
        "# Set the labels and display the plot\n",
        "ax.set_xlabel('CO2', fontsize=10)\n",
        "ax.set_ylabel('Boxplot CO2 levels in Maui Hawaii', fontsize=10)\n",
        "plt.legend(fontsize=10)\n",
        "plt.show()"
      ]
    },
    {
      "cell_type": "code",
      "execution_count": null,
      "id": "6e26e443",
      "metadata": {
        "id": "6e26e443"
      },
      "outputs": [],
      "source": [
        "# Generate a histogram\n",
        "ax = co2_levels['co2'].plot(kind='hist', bins=50, fontsize=6)\n",
        "\n",
        "# Set the labels and display the plot\n",
        "ax.set_xlabel('CO2', fontsize=10)\n",
        "ax.set_ylabel('Histogram of CO2 levels in Maui Hawaii', fontsize=10)\n",
        "plt.legend(fontsize=10)\n",
        "plt.show()"
      ]
    },
    {
      "cell_type": "markdown",
      "id": "4bb14e2c",
      "metadata": {
        "id": "4bb14e2c"
      },
      "source": [
        "## Density plots\n",
        "In practice, histograms can be a substandard method for assessing the distribution of your data because they can be strongly affected by the number of bins that have been specified. Instead, kernel density plots represent a more effective way to view the distribution of your data. An example of how to generate a density plot of is shown below:\n",
        "\n",
        "ax = df.plot(kind='density', linewidth=2)\n",
        "The standard .plot() method is specified with the kind argument set to 'density'. We also specified an additional parameter linewidth, which controls the width of the line to be plotted.\n",
        "Kernel density plots provide a smooth visualization of data distribution."
      ]
    },
    {
      "cell_type": "code",
      "execution_count": null,
      "id": "8f4d794e",
      "metadata": {
        "id": "8f4d794e"
      },
      "outputs": [],
      "source": [
        "# Display density plot of CO2 levels values\n",
        "ax = co2_levels.plot(kind='density', linewidth=4, fontsize=6)\n",
        "\n",
        "# Annotate x-axis labels\n",
        "ax.set_xlabel('CO2', fontsize=10)\n",
        "\n",
        "# Annotate y-axis labels\n",
        "ax.set_ylabel('Density plot of CO2 levels in Maui Hawaii', fontsize=10)\n",
        "\n",
        "plt.show()"
      ]
    }
  ],
  "metadata": {
    "colab": {
      "provenance": []
    }
  },
  "nbformat": 4,
  "nbformat_minor": 5
}
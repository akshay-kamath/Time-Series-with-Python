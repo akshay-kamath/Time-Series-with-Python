{
  "cells": [
    {
      "cell_type": "markdown",
      "id": "b997e1cb",
      "metadata": {
        "id": "b997e1cb"
      },
      "source": [
        "# Chapter 3: Time Series Analysis and Decomposition\n",
        "## Autocorrelation in time series data\n",
        "In the field of time series analysis, autocorrelation refers to the correlation of a time series with a lagged version of itself. For example, an autocorrelation of order 3 returns the correlation between a time series and its own values lagged by 3 time points.\n",
        "\n",
        "It is common to use the autocorrelation (ACF) plot, also known as self-autocorrelation, to visualize the autocorrelation of a time-series. The plot_acf() function in the statsmodels library can be used to measure and plot the autocorrelation of a time series.\n"
      ]
    },
    {
      "cell_type": "code",
      "execution_count": null,
      "id": "0f42ebd9",
      "metadata": {
        "id": "0f42ebd9"
      },
      "outputs": [],
      "source": [
        "# Import required libraries\n",
        "import matplotlib.pyplot as plt\n",
        "plt.style.use('fivethirtyeight')\n",
        "from statsmodels.graphics import tsaplots\n",
        "\n",
        "# Display the autocorrelation plot of your time series\n",
        "fig = tsaplots.plot_acf(co2_levels['co2'], lags=24)\n",
        "\n",
        "# Show plot\n",
        "plt.show()"
      ]
    },
    {
      "cell_type": "markdown",
      "id": "60a2f1db",
      "metadata": {
        "id": "60a2f1db"
      },
      "source": [
        "## Interpret autocorrelation plots\n",
        "If autocorrelation values are close to 0, consecutive observations are not correlated.\n",
        "If values are close to 1 or -1, there exists strong correlation between observations.\n",
        "\n",
        "In order to help you asses how trustworthy these autocorrelation values are, the plot_acf() function also returns confidence intervals (represented as blue shaded regions). If an autocorrelation value goes beyond the confidence interval region, you can assume that the observed autocorrelation value is statistically significant.\n",
        "\n"
      ]
    },
    {
      "cell_type": "markdown",
      "id": "7bdbbb99",
      "metadata": {
        "id": "7bdbbb99"
      },
      "source": [
        "## Partial autocorrelation in time series data\n",
        "Like autocorrelation, the partial autocorrelation function (PACF) measures the correlation coefficient between a time-series and lagged versions of itself. However, it extends upon this idea by also removing the effect of previous time points. For example, a partial autocorrelation function of order 3 returns the correlation between our time series (t_1, t_2, t_3, …) and its own values lagged by 3 time points (t_4, t_5, t_6, …), but only after removing all effects attributable to lags 1 and 2.\n",
        "\n",
        "Partial autocorrelation measures the correlation between a time series and its past values while removing effects from previous lags.\n",
        "Use `plot_pacf()` to visualize partial autocorrelation."
      ]
    },
    {
      "cell_type": "code",
      "execution_count": null,
      "id": "35ea1019",
      "metadata": {
        "id": "35ea1019"
      },
      "outputs": [],
      "source": [
        "# Import required libraries\n",
        "import matplotlib.pyplot as plt\n",
        "plt.style.use('fivethirtyeight')\n",
        "from statsmodels.graphics import tsaplots\n",
        "\n",
        "# Display the partial autocorrelation plot of your time series\n",
        "fig = tsaplots.plot_pacf(co2_levels['co2'], lags=24)\n",
        "\n",
        "# Show plot\n",
        "plt.show()"
      ]
    },
    {
      "cell_type": "markdown",
      "id": "ce7f8363",
      "metadata": {
        "id": "ce7f8363"
      },
      "source": [
        "## Time series decomposition\n",
        "When visualizing time series data, you should look out for some distinguishable patterns:\n",
        "\n",
        "seasonality: does the data display a clear periodic pattern?\n",
        "trend: does the data follow a consistent upwards or downward slope?\n",
        "noise: are there any outlier points or missing values that are not consistent with the rest of the data?\n",
        "You can rely on a method known as time-series decomposition to automatically extract and quantify the structure of time-series data. The statsmodels library provides the seasonal_decompose() function to perform time series decomposition out of the box.\n",
        "\n",
        "decomposition = sm.tsa.seasonal_decompose(time_series)\n",
        "You can extract a specific component, for example seasonality, by accessing the seasonal attribute of the decomposition object.\n",
        "\n",
        "\n",
        "Use `seasonal_decompose()` to decompose a time series."
      ]
    },
    {
      "cell_type": "code",
      "execution_count": null,
      "id": "2db475f9",
      "metadata": {
        "id": "2db475f9"
      },
      "outputs": [],
      "source": [
        "# Import statsmodels.api as sm\n",
        "import statsmodels.api as sm\n",
        "\n",
        "# Perform time series decomposition\n",
        "decomposition = sm.tsa.seasonal_decompose(co2_levels)\n",
        "\n",
        "# Print the seasonality component\n",
        "print(decomposition.seasonal)"
      ]
    },
    {
      "cell_type": "markdown",
      "id": "e85639d7",
      "metadata": {
        "id": "e85639d7"
      },
      "source": [
        "## Plot individual components\n",
        "It is also possible to extract other inferred quantities from your time-series decomposition object. The following code shows you how to extract the observed, trend and noise (or residual, resid) components.\n",
        "\n",
        "observed = decomposition.observed\n",
        "trend = decomposition.trend\n",
        "residuals = decomposition.resid\n",
        "You can then use the extracted components and plot them individually.\n"
      ]
    },
    {
      "cell_type": "code",
      "execution_count": null,
      "id": "237102f0",
      "metadata": {
        "id": "237102f0"
      },
      "outputs": [],
      "source": [
        "# Extract the trend component\n",
        "trend = decomposition.trend\n",
        "\n",
        "# Plot the values of the trend\n",
        "ax = trend.plot(figsize=(12, 6), fontsize=6)\n",
        "\n",
        "# Specify axis labels\n",
        "ax.set_xlabel('Date', fontsize=10)\n",
        "ax.set_title('Seasonal component of the CO2 time-series', fontsize=10)\n",
        "plt.show()"
      ]
    },
    {
      "cell_type": "markdown",
      "id": "b6a01bef",
      "metadata": {
        "id": "b6a01bef"
      },
      "source": [
        "## Visualize the airline dataset\n",
        "You will now review the contents of chapter 1. You will have the opportunity to work with a new dataset that contains the monthly number of passengers who took a commercial flight between January 1949 and December 1960.\n",
        "\n"
      ]
    },
    {
      "cell_type": "code",
      "execution_count": null,
      "id": "90bf8e19",
      "metadata": {
        "id": "90bf8e19"
      },
      "outputs": [],
      "source": [
        "# Plot the time series in your DataFrame\n",
        "ax = airline.plot(color='blue', fontsize=12)\n",
        "\n",
        "# Add a red vertical line at the date 1955-12-01\n",
        "ax.axvline('1955-12-01', color='red', linestyle='--')\n",
        "\n",
        "# Specify the labels in your plot\n",
        "ax.set_xlabel('Date', fontsize=12)\n",
        "ax.set_title('Number of Monthly Airline Passengers', fontsize=12)\n",
        "plt.show()"
      ]
    },
    {
      "cell_type": "markdown",
      "id": "e6dcc935",
      "metadata": {
        "id": "e6dcc935"
      },
      "source": [
        "## Analyze the airline dataset\n",
        "In Chapter 2 you learned:\n",
        "\n",
        "How to check for the presence of missing values, and how to collect summary statistics of time series data contained in a pandas DataFrame.\n",
        "To generate boxplots of your data to quickly gain insight in your data.\n",
        "Display aggregate statistics of your data using groupby().\n",
        "In this exercise, you will apply all these concepts on the airline DataFrame."
      ]
    },
    {
      "cell_type": "code",
      "execution_count": null,
      "id": "6cef47ca",
      "metadata": {
        "id": "6cef47ca"
      },
      "outputs": [],
      "source": [
        "# Print out the number of missing values\n",
        "print(airline.isnull().sum())\n",
        "\n",
        "# Print out summary statistics of the airline DataFrame\n",
        "print(airline.describe())"
      ]
    },
    {
      "cell_type": "markdown",
      "id": "772ca4c5",
      "metadata": {
        "id": "772ca4c5"
      },
      "source": [
        "## Generate a boxplot\n",
        "Boxplots help visualize spread and outliers in data."
      ]
    },
    {
      "cell_type": "code",
      "execution_count": null,
      "id": "1a1c2168",
      "metadata": {
        "id": "1a1c2168"
      },
      "outputs": [],
      "source": [
        "# Display boxplot of airline values\n",
        "ax = airline.boxplot()\n",
        "\n",
        "# Specify the title of your plot\n",
        "ax.set_title('Boxplot of Monthly Airline\\nPassengers Count', fontsize=20)\n",
        "plt.show()"
      ]
    },
    {
      "cell_type": "markdown",
      "id": "4ceb4687",
      "metadata": {
        "id": "4ceb4687"
      },
      "source": [
        "## Extract month and plot means\n",
        "Compute the mean number of passengers per month and visualize it."
      ]
    },
    {
      "cell_type": "code",
      "execution_count": null,
      "id": "e3b26758",
      "metadata": {
        "id": "e3b26758"
      },
      "outputs": [],
      "source": [
        "# Get month for each date from the index of airline\n",
        "index_month = airline.index.month\n",
        "\n",
        "# Compute the mean number of passengers for each month of the year\n",
        "mean_airline_by_month = airline.groupby(index_month).mean()\n",
        "\n",
        "# Plot the mean number of passengers for each month of the year\n",
        "mean_airline_by_month.plot()\n",
        "plt.legend(fontsize=20)\n",
        "plt.show()"
      ]
    },
    {
      "cell_type": "markdown",
      "id": "cb4b7705",
      "metadata": {
        "id": "cb4b7705"
      },
      "source": [
        "## Time series decomposition of the airline dataset\n",
        "Use `seasonal_decompose()` to analyze the trend and seasonal components."
      ]
    },
    {
      "cell_type": "code",
      "execution_count": null,
      "id": "a8dcb4b9",
      "metadata": {
        "id": "a8dcb4b9"
      },
      "outputs": [],
      "source": [
        "# Import statsmodels.api as sm\n",
        "import statsmodels.api as sm\n",
        "\n",
        "# Perform time series decomposition\n",
        "decomposition = sm.tsa.seasonal_decompose(airline)\n",
        "\n",
        "# Extract the trend and seasonal components\n",
        "trend = decomposition.trend\n",
        "seasonal = decomposition.seasonal"
      ]
    },
    {
      "cell_type": "markdown",
      "id": "8be2b55c",
      "metadata": {
        "id": "8be2b55c"
      },
      "source": [
        "## Print and plot decomposition\n",
        "Print the first 5 rows and visualize trend and seasonal components."
      ]
    },
    {
      "cell_type": "code",
      "execution_count": null,
      "id": "97075be8",
      "metadata": {
        "id": "97075be8"
      },
      "outputs": [],
      "source": [
        "# Print the first 5 rows of airline_decomposed\n",
        "print(airline_decomposed.head(5))\n",
        "\n",
        "# Plot the values of the airline_decomposed DataFrame\n",
        "ax = airline_decomposed.plot(figsize=(12, 6), fontsize=15)\n",
        "\n",
        "# Specify axis labels\n",
        "ax.set_xlabel('Date', fontsize=15)\n",
        "plt.legend(fontsize=15)\n",
        "plt.show()"
      ]
    }
  ],
  "metadata": {
    "colab": {
      "provenance": []
    }
  },
  "nbformat": 4,
  "nbformat_minor": 5
}
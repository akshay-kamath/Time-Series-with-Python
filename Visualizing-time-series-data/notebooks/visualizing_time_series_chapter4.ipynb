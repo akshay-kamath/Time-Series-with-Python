{
  "cells": [
    {
      "cell_type": "markdown",
      "id": "93437f7a",
      "metadata": {
        "id": "93437f7a"
      },
      "source": [
        "# Chapter 4: Analyzing Multiple Time Series\n",
        "## Load multiple time series\n",
        "Whether it is during personal projects or your day-to-day work as a Data Scientist, it is likely that you will encounter situations that require the analysis and visualization of multiple time series at the same time.\n",
        "\n",
        "Provided that the data for each time series is stored in distinct columns of a file, the pandas library makes it easy to work with multiple time series. In the following exercises, you will work with a new time series dataset that contains the amount of different types of meat produced in the USA between 1944 and 2012.\n"
      ]
    },
    {
      "cell_type": "code",
      "execution_count": null,
      "id": "b6accb31",
      "metadata": {
        "id": "b6accb31"
      },
      "outputs": [],
      "source": [
        "# Read in meat DataFrame\n",
        "meat = pd.read_csv(url_meat)\n",
        "\n",
        "# Review the first five lines of the meat DataFrame\n",
        "print(meat.head(5))\n",
        "\n",
        "# Convert the date column to a datestamp type\n",
        "meat['date'] = pd.to_datetime(meat['date'])\n",
        "\n",
        "# Set the date column as the index of your DataFrame meat\n",
        "meat = meat.set_index('date')\n",
        "\n",
        "# Print the summary statistics of the DataFrame\n",
        "print(meat.describe())"
      ]
    },
    {
      "cell_type": "markdown",
      "id": "183bd2c4",
      "metadata": {
        "id": "183bd2c4"
      },
      "source": [
        "## Visualize multiple time series\n",
        "If there are multiple time series in a single DataFrame, you can still use the .plot() method to plot a line chart of all the time series. Another interesting way to plot these is to use area charts. Area charts are commonly used when dealing with multiple time series, and can be used to display cumulated totals.\n",
        "\n",
        "With the pandas library, you can simply leverage the .plot.area() method to produce area charts of the time series data in your DataFrame."
      ]
    },
    {
      "cell_type": "code",
      "execution_count": null,
      "id": "ce3988ca",
      "metadata": {
        "id": "ce3988ca"
      },
      "outputs": [],
      "source": [
        "# Plot time series dataset\n",
        "ax = meat.plot(linewidth=2, fontsize=12)\n",
        "\n",
        "# Additional customizations\n",
        "ax.set_xlabel('Date')\n",
        "ax.legend(fontsize=15)\n",
        "\n",
        "# Show plot\n",
        "plt.show()"
      ]
    },
    {
      "cell_type": "code",
      "execution_count": null,
      "id": "9e7a52f7",
      "metadata": {
        "id": "9e7a52f7"
      },
      "outputs": [],
      "source": [
        "# Plot an area chart\n",
        "ax = meat.plot.area(fontsize=12)\n",
        "\n",
        "# Additional customizations\n",
        "ax.set_xlabel('Date')\n",
        "ax.legend(fontsize=15)\n",
        "\n",
        "# Show plot\n",
        "plt.show()"
      ]
    },
    {
      "cell_type": "markdown",
      "id": "e25abc2a",
      "metadata": {
        "id": "e25abc2a"
      },
      "source": [
        "## Define the color palette of your plots\n",
        "When visualizing multiple time series, it can be difficult to differentiate between various colors in the default color scheme.\n",
        "\n",
        "To remedy this, you can define each color manually, but this may be time-consuming. Fortunately, it is possible to leverage the colormap argument to .plot() to automatically assign specific color palettes with varying contrasts. You can either provide a matplotlib colormap as an input to this parameter, or provide one of the default strings that is available in the colormap() function available in matplotlib (all of which are available here).\n",
        "\n",
        "For example, you can specify the 'viridis' colormap using the following command:\n",
        "\n",
        "df.plot(colormap='viridis')\n",
        "\n"
      ]
    },
    {
      "cell_type": "code",
      "execution_count": null,
      "id": "8b825694",
      "metadata": {
        "id": "8b825694"
      },
      "outputs": [],
      "source": [
        "# Plot time series dataset using the cubehelix color palette\n",
        "ax = meat.plot(colormap='cubehelix', fontsize=15)\n",
        "\n",
        "# Additional customizations\n",
        "ax.set_xlabel('Date')\n",
        "ax.legend(fontsize=18)\n",
        "\n",
        "# Show plot\n",
        "plt.show()"
      ]
    },
    {
      "cell_type": "code",
      "execution_count": null,
      "id": "3201b3b6",
      "metadata": {
        "id": "3201b3b6"
      },
      "outputs": [],
      "source": [
        "# Plot time series dataset using the PuOr color palette\n",
        "ax = meat.plot(colormap='PuOr', fontsize=15)\n",
        "\n",
        "# Additional customizations\n",
        "ax.set_xlabel('Date')\n",
        "ax.legend(fontsize=18)\n",
        "\n",
        "# Show plot\n",
        "plt.show()"
      ]
    },
    {
      "cell_type": "markdown",
      "id": "8072c7ac",
      "metadata": {
        "id": "8072c7ac"
      },
      "source": [
        "## Add summary statistics to your time series plot\n",
        "Use `ax.table()` to display summary statistics on the same graph as your time series plot."
      ]
    },
    {
      "cell_type": "code",
      "execution_count": null,
      "id": "bb806250",
      "metadata": {
        "id": "bb806250"
      },
      "outputs": [],
      "source": [
        "# Plot the meat data\n",
        "ax = meat.plot(fontsize=6, linewidth=1)\n",
        "\n",
        "# Add x-axis labels\n",
        "ax.set_xlabel('Date', fontsize=6)\n",
        "\n",
        "# Add summary table information to the plot\n",
        "ax.table(cellText=meat_mean.values,\n",
        "         colWidths = [0.15]*len(meat_mean.columns),\n",
        "         rowLabels=meat_mean.index,\n",
        "         colLabels=meat_mean.columns,\n",
        "         loc='top')\n",
        "\n",
        "# Specify the fontsize and location of your legend\n",
        "ax.legend(loc='upper center', bbox_to_anchor=(0.5, 0.95), ncol=3, fontsize=6)\n",
        "\n",
        "# Show plot\n",
        "plt.show()"
      ]
    },
    {
      "cell_type": "markdown",
      "id": "8d8cef62",
      "metadata": {
        "id": "8d8cef62"
      },
      "source": [
        "## Plot your time series on individual plots\n",
        "It can be beneficial to plot individual time series on separate graphs as this may improve clarity and provide more context around each time series in your DataFrame.\n",
        "\n",
        "It is possible to create a \"grid\" of individual graphs by \"faceting\" each time series by setting the subplots argument to True. In addition, the arguments that can be added are:\n",
        "\n",
        "layout: specifies the number of rows x columns to use.\n",
        "sharex and sharey: specifies whether the x-axis and y-axis values should be shared between your plots.\n"
      ]
    },
    {
      "cell_type": "code",
      "execution_count": null,
      "id": "91d22ab4",
      "metadata": {
        "id": "91d22ab4"
      },
      "outputs": [],
      "source": [
        "# Create a facetted graph with 2 rows and 4 columns\n",
        "meat.plot(subplots=True,\n",
        "          layout=(2, 4),\n",
        "          sharex=False,\n",
        "          sharey=False,\n",
        "          colormap='viridis',\n",
        "          fontsize=2,\n",
        "          legend=False,\n",
        "          linewidth=0.2)\n",
        "\n",
        "plt.show()"
      ]
    },
    {
      "cell_type": "markdown",
      "id": "3674d518",
      "metadata": {
        "id": "3674d518"
      },
      "source": [
        "## Compute correlations between time series\n",
        "The correlation coefficient can be used to determine how multiple variables (or a group of time series) are associated with one another. The result is a correlation matrix that describes the correlation between time series. Note that the diagonal values in a correlation matrix will always be 1, since a time series will always be perfectly correlated with itself.\n",
        "\n",
        "Correlation coefficients can be computed with the pearson, kendall and spearman methods. A full discussion of these different methods is outside the scope of this course, but the pearson method should be used when relationships between your variables are thought to be linear, while the kendall and spearman methods should be used when relationships between your variables are thought to be non-linear.\n"
      ]
    },
    {
      "cell_type": "code",
      "execution_count": null,
      "id": "579f85c2",
      "metadata": {
        "id": "579f85c2"
      },
      "outputs": [],
      "source": [
        "# Print the correlation matrix between the beef and pork columns using the spearman method\n",
        "print(meat[['beef', 'pork']].corr(method='spearman'))\n",
        "\n",
        "# Print the correlation between beef and pork columns\n",
        "print(0.828)"
      ]
    },
    {
      "cell_type": "code",
      "execution_count": null,
      "id": "fc8e606c",
      "metadata": {
        "id": "fc8e606c"
      },
      "outputs": [],
      "source": [
        "# Print the correlation matrix between the pork, veal and turkey columns using the pearson method\n",
        "print(meat[['pork', 'veal', 'turkey']].corr(method='pearson'))\n",
        "\n",
        "# Print the correlation between veal and pork columns\n",
        "print(-0.809)\n",
        "\n",
        "# Print the correlation between veal and turkey columns\n",
        "print(-0.768)\n",
        "\n",
        "# Print the correlation between pork and turkey columns\n",
        "print(0.835)"
      ]
    },
    {
      "cell_type": "markdown",
      "id": "877ee912",
      "metadata": {
        "id": "877ee912"
      },
      "source": [
        "## Visualize correlation matrices\n",
        "The correlation matrix generated in the previous exercise can be plotted using a heatmap. To do so, you can leverage the heatmap() function from the seaborn library which contains several arguments to tailor the look of your heatmap.\n",
        "\n",
        "df_corr = df.corr()\n",
        "\n",
        "You can use the .xticks() and .yticks() methods to rotate the axis labels so they don't overlap.\n",
        "\n",
        "To learn about the arguments to the heatmap() function, refer to this page.\t(https://seaborn.pydata.org/generated/seaborn.heatmap.html)\n"
      ]
    },
    {
      "cell_type": "code",
      "execution_count": null,
      "id": "4f0da4bd",
      "metadata": {
        "id": "4f0da4bd"
      },
      "outputs": [],
      "source": [
        "# Import seaborn library\n",
        "import seaborn as sns\n",
        "\n",
        "# Get correlation matrix of the meat DataFrame: corr_meat\n",
        "corr_meat = meat.corr(method='spearman')\n",
        "\n",
        "# Customize the heatmap of the corr_meat correlation matrix\n",
        "sns.heatmap(corr_meat,\n",
        "            annot=True,\n",
        "            linewidths=0.4,\n",
        "            annot_kws={'size': 10})\n",
        "\n",
        "plt.xticks(rotation=90)\n",
        "plt.yticks(rotation=0)\n",
        "plt.show()"
      ]
    },
    {
      "cell_type": "markdown",
      "id": "b708f57a",
      "metadata": {
        "id": "b708f57a"
      },
      "source": [
        "## Clustered heatmaps\n",
        "Heatmaps are extremely useful to visualize a correlation matrix, but clustermaps are better. A Clustermap allows to uncover structure in a correlation matrix by producing a hierarchically-clustered heatmap:\n",
        "\n",
        "\n",
        "Use `sns.clustermap()` to visualize hierarchical clusters in the correlation matrix.\n",
        "\n",
        "To prevent overlapping of axis labels, you can reference the Axes from the underlying fig object and specify the rotation. You can learn about the arguments to the clustermap() function here.\n"
      ]
    },
    {
      "cell_type": "code",
      "execution_count": null,
      "id": "517853bd",
      "metadata": {
        "id": "517853bd"
      },
      "outputs": [],
      "source": [
        "# Import seaborn library\n",
        "import seaborn as sns\n",
        "\n",
        "# Get correlation matrix of the meat DataFrame\n",
        "corr_meat = meat.corr(method='pearson')\n",
        "\n",
        "# Customize the heatmap of the corr_meat correlation matrix and rotate the x-axis labels\n",
        "fig = sns.clustermap(corr_meat,\n",
        "                     row_cluster=True,\n",
        "                     col_cluster=True,\n",
        "                     figsize=(10, 10))\n",
        "\n",
        "plt.setp(fig.ax_heatmap.xaxis.get_majorticklabels(), rotation=90)\n",
        "plt.setp(fig.ax_heatmap.yaxis.get_majorticklabels(), rotation=0)\n",
        "plt.show()"
      ]
    }
  ],
  "metadata": {
    "colab": {
      "provenance": []
    }
  },
  "nbformat": 4,
  "nbformat_minor": 5
}
{
  "cells": [
    {
      "cell_type": "markdown",
      "id": "eea5a6bd",
      "metadata": {
        "id": "eea5a6bd"
      },
      "source": [
        "# Chapter 5: Exploring and Analyzing Time Series Data\n",
        "## Explore the Jobs dataset\n",
        "The dataset contains the unemployment rate of different industries in the USA from 2000-2010.As you will see, the dataset contains time series for 16 industries and across 122 timepoints (one per month for 10 years). In general, the typical workflow of a Data Science project will involve data cleaning and exploration, so we will begin by reading in the data and checking for missing values."
      ]
    },
    {
      "cell_type": "code",
      "execution_count": null,
      "id": "ce3a8845",
      "metadata": {
        "id": "ce3a8845"
      },
      "outputs": [],
      "source": [
        "# Read in jobs file\n",
        "jobs = pd.read_csv(url_jobs)\n",
        "\n",
        "# Print first five lines of your DataFrame\n",
        "print(jobs.head(5))\n",
        "\n",
        "# Check the type of each column in your DataFrame\n",
        "print(jobs.dtypes)\n",
        "\n",
        "# Convert datestamp column to a datetime object\n",
        "jobs['datestamp'] = pd.to_datetime(jobs['datestamp'])\n",
        "\n",
        "# Set the datestamp column as the index of your DataFrame\n",
        "jobs = jobs.set_index('datestamp')\n",
        "\n",
        "# Check the number of missing values in each column\n",
        "print(jobs.isnull().sum())"
      ]
    },
    {
      "cell_type": "markdown",
      "id": "f565494e",
      "metadata": {
        "id": "f565494e"
      },
      "source": [
        "## Describe time series data with boxplots\n",
        "You should always explore the distribution of the variables, and because you are working with time series, you will explore their properties using boxplots and numerical summaries. As a reminder, you can plot data in a DataFrame as boxplots with the command:\n",
        "\n",
        "df.boxplot(fontsize=6, vert=False)\n",
        "Notice the introduction of the new parameter vert, which specifies whether to plot the boxplots horizontally or vertically.\n",
        "\n",
        "Generate a boxplot of all the time series in jobs.\n",
        "Print out a numerical statistical summary of all the time series in jobs.\n",
        "Review the results and print the name of the time series with the highest mean value and with the most variability (i.e., with the highest standard deviation)."
      ]
    },
    {
      "cell_type": "code",
      "execution_count": null,
      "id": "751c9480",
      "metadata": {
        "id": "751c9480"
      },
      "outputs": [],
      "source": [
        "# Generate a boxplot\n",
        "jobs.boxplot(fontsize=6, vert=False)\n",
        "plt.show()\n",
        "\n",
        "# Generate numerical summaries\n",
        "print(jobs.describe())\n",
        "\n",
        "# Print the name of the time series with the highest mean\n",
        "print('Agriculture')\n",
        "\n",
        "# Print the name of the time series with the highest variability\n",
        "print('Construction')"
      ]
    },
    {
      "cell_type": "markdown",
      "id": "9dd17227",
      "metadata": {
        "id": "9dd17227"
      },
      "source": [
        "## Plot all the time series in your dataset\n",
        "Use facetted plots to explore multiple time series separately."
      ]
    },
    {
      "cell_type": "code",
      "execution_count": null,
      "id": "3add0a22",
      "metadata": {
        "id": "3add0a22"
      },
      "outputs": [],
      "source": [
        "# A subset of the jobs DataFrame\n",
        "jobs_subset = jobs[['Finance', 'Information', 'Manufacturing', 'Construction']]\n",
        "\n",
        "# Print the first 5 rows of jobs_subset\n",
        "print(jobs_subset.head(5))\n",
        "\n",
        "# Create a facetted graph with 2 rows and 2 columns\n",
        "ax = jobs_subset.plot(subplots=True,\n",
        "                      layout=(2, 2),\n",
        "                      sharex=False,\n",
        "                      sharey=False,\n",
        "                      linewidth=0.7,\n",
        "                      fontsize=3,\n",
        "                      legend=False)\n",
        "\n",
        "plt.show()"
      ]
    },
    {
      "cell_type": "markdown",
      "id": "e0880232",
      "metadata": {
        "id": "e0880232"
      },
      "source": [
        "## Annotate significant events in time series data\n",
        "When plotting the Finance, Information, Manufacturing and Construction time series of the jobs DataFrame, you observed a distinct increase in unemployment rates during 2001 and 2008. In general, time series plots can be made even more informative if you include additional annotations that emphasize specific observations or events. This allows you to quickly highlight parts of the graph to viewers, and can help infer what may have caused a specific event.\n",
        "\n",
        "Recall that you have already set the datestamp column as the index of the jobs DataFrame, so you are prepared to directly annotate your plots with vertical or horizontal lines.\n",
        "\n",
        "_ Plot all the time series in jobs on a single graph, and use the Spectral color palette.\n"
      ]
    },
    {
      "cell_type": "code",
      "execution_count": null,
      "id": "07bf4336",
      "metadata": {
        "id": "07bf4336"
      },
      "outputs": [],
      "source": [
        "# Plot all time series in the jobs DataFrame\n",
        "ax = jobs.plot(colormap='Spectral', fontsize=6, linewidth=0.8)\n",
        "\n",
        "# Set labels and legend\n",
        "ax.set_xlabel('Date', fontsize=10)\n",
        "ax.set_ylabel('Unemployment Rate', fontsize=10)\n",
        "ax.set_title('Unemployment rate of U.S. workers by industry', fontsize=10)\n",
        "ax.legend(loc='center left', bbox_to_anchor=(1.0, 0.5))\n",
        "\n",
        "# Annotate your plots with vertical lines\n",
        "ax.axvline('2001-07-01', color='blue', linestyle='--', linewidth=0.8)\n",
        "ax.axvline('2008-09-01', color='blue', linestyle='--', linewidth=0.8)\n",
        "\n",
        "# Show plot\n",
        "plt.show()"
      ]
    },
    {
      "cell_type": "markdown",
      "id": "2c6cc562",
      "metadata": {
        "id": "2c6cc562"
      },
      "source": [
        "## Plot monthly and yearly trends\n",
        "Like we saw in Chapter 2, when the index of a DataFrame is of the datetime type, it is possible to directly extract the day, month or year of each date in the index. As a reminder, you can extract the year of each date in the index using the .index.year attribute. You can then use the .groupby() and .mean() methods to compute the mean annual value of each time series in your DataFrame:\n",
        "\n",
        "index_year = df.index.year\n",
        "df_by_year = df.groupby(index_year).mean()\n",
        "You will now apply what you have learned to display the aggregate mean values of each time series in the jobs DataFrame."
      ]
    },
    {
      "cell_type": "code",
      "execution_count": null,
      "id": "280b82e9",
      "metadata": {
        "id": "280b82e9"
      },
      "outputs": [],
      "source": [
        "# Extract the month from the index of jobs\n",
        "index_month = jobs.index.month\n",
        "\n",
        "# Compute the mean unemployment rate for each month\n",
        "jobs_by_month = jobs.groupby(index_month).mean()\n",
        "\n",
        "# Plot the mean unemployment rate for each month\n",
        "ax = jobs_by_month.plot(fontsize=6, linewidth=1)\n",
        "\n",
        "# Set axis labels and legend\n",
        "ax.set_xlabel('Month', fontsize=10)\n",
        "ax.set_ylabel('Mean unemployment rate', fontsize=10)\n",
        "ax.legend(bbox_to_anchor=(0.8, 0.6), fontsize=10)\n",
        "plt.show()"
      ]
    },
    {
      "cell_type": "code",
      "execution_count": null,
      "id": "92eb5588",
      "metadata": {
        "id": "92eb5588"
      },
      "outputs": [],
      "source": [
        "# Extract the year from the index of jobs\n",
        "index_year = jobs.index.year\n",
        "\n",
        "# Compute the mean unemployment rate for each year\n",
        "jobs_by_year = jobs.groupby(index_year).mean()\n",
        "\n",
        "# Plot the mean unemployment rate for each year\n",
        "ax = jobs_by_year.plot(fontsize=6, linewidth=1)\n",
        "\n",
        "# Set axis labels and legend\n",
        "ax.set_xlabel('Year', fontsize=10)\n",
        "ax.set_ylabel('Mean unemployment rate', fontsize=10)\n",
        "ax.legend(bbox_to_anchor=(0.1, 0.5), fontsize=10)\n",
        "plt.show()"
      ]
    },
    {
      "cell_type": "markdown",
      "id": "047aff24",
      "metadata": {
        "id": "047aff24"
      },
      "source": [
        "## Apply time series decomposition to your dataset\n",
        "You will now perform time series decomposition on multiple time series. You can achieve this by leveraging the Python dictionary to store the results of each time series decomposition.\n",
        "\n",
        "In this exercise, you will initialize an empty dictionary with a set of curly braces, {}, use a for loop to iterate through the columns of the DataFrame and apply time series decomposition to each time series. After each time series decomposition, you place the results in the dictionary by using the command my_dict[key] = value, where my_dict is your dictionary, key is the name of the column/time series, and value is the decomposition object of that time series.\n",
        "\n",
        "Store the decomposition results in a dictionary for multiple time series."
      ]
    },
    {
      "cell_type": "code",
      "execution_count": null,
      "id": "531b7fc2",
      "metadata": {
        "id": "531b7fc2"
      },
      "outputs": [],
      "source": [
        "# Initialize dictionary\n",
        "jobs_decomp = {}\n",
        "\n",
        "# Get the names of each time series in the DataFrame\n",
        "jobs_names = jobs.columns\n",
        "\n",
        "# Run time series decomposition on each time series of the DataFrame\n",
        "for ts in jobs_names:\n",
        "    ts_decomposition = sm.tsa.seasonal_decompose(jobs[ts])\n",
        "    jobs_decomp[ts] = ts_decomposition"
      ]
    },
    {
      "cell_type": "markdown",
      "id": "dfdd08dc",
      "metadata": {
        "id": "dfdd08dc"
      },
      "source": [
        "## Visualize the seasonality of multiple time series\n",
        "You will now extract the seasonality component of jobs_decomp to visualize the seasonality in these time series. Note that before plotting, you will have to convert the dictionary of seasonality components into a DataFrame using the pd.DataFrame.from_dict() function.\n",
        "\n",
        "An empty dictionary jobs_seasonal and the time series decomposition object jobs_decomp from the previous exercise are available in your workspace.\n",
        "\n",
        "Iterate through each column name in jobs_names and extract the corresponding seasonal component from jobs_decomp. Place the results in the jobs_seasonal, where the column name is the name of the time series, and the value is the seasonal component of the time series.\n",
        "Convert jobs_seasonal to a DataFrame and call it seasonality_df.\n",
        "Create a facetted plot of all 16 columns in seasonality_df. Ensure that the subgraphs do not share y-axis.\n",
        "\n",
        "The seasonal component can be extracted using the .seasonal attribute.\n",
        "Use the pd.DataFrame.from_dict() to convert a dictionary to a DataFrame.\n",
        "Faceted plots of DataFrame df can be generated by setting the subplots argument to True"
      ]
    },
    {
      "cell_type": "code",
      "execution_count": null,
      "id": "ba040d0b",
      "metadata": {
        "id": "ba040d0b"
      },
      "outputs": [],
      "source": [
        "# Extract the seasonal values for the decomposition of each time series\n",
        "jobs_seasonal = {}\n",
        "for ts in jobs_names:\n",
        "    jobs_seasonal[ts] = jobs_decomp[ts].seasonal\n",
        "\n",
        "# Create a DataFrame from the jobs_seasonal dictionary\n",
        "seasonality_df = pd.DataFrame.from_dict(jobs_seasonal)\n",
        "\n",
        "# Remove the label for the index\n",
        "seasonality_df.index.name = None\n",
        "\n",
        "# Create a faceted plot of the seasonality_df DataFrame\n",
        "seasonality_df.plot(subplots=True,\n",
        "                   layout=(4, 4),\n",
        "                   sharey=False,\n",
        "                   fontsize=2,\n",
        "                   linewidth=0.3,\n",
        "                   legend=False)\n",
        "\n",
        "# Show plot\n",
        "plt.show()"
      ]
    },
    {
      "cell_type": "markdown",
      "id": "3559c21b",
      "metadata": {
        "id": "3559c21b"
      },
      "source": [
        "## Correlations between multiple time series\n",
        "In the previous exercise, you extracted the seasonal component of each time series in the jobs DataFrame and stored those results in new DataFrame called seasonality_df. In the context of jobs data, it can be interesting to compare seasonality behavior, as this may help uncover which job industries are the most similar or the most different.\n",
        "\n",
        "This can be achieved by using the seasonality_df DataFrame and computing the correlation between each time series in the dataset. In this exercise, you will leverage what you have learned in Chapter 4 to compute and create a clustermap visualization of the correlations between time series in the seasonality_df DataFrame.\n",
        "\n",
        "Compute the correlation between all columns in the seasonality_df DataFrame using the spearman method and assign the results to seasonality_corr.\n",
        "Create a new clustermap of your correlation matrix.\n",
        "Print the correlation value between the seasonalities of the Government and Education & Health industries.\n",
        "\n",
        "Use the .corr() method along with the method argument to create a correlation matrix.\n",
        "To plot a clustermap, use the sns.clustermap() function.\n",
        "You might want to expand the plot and refer to the box that references the two mentioned industries and replace ____ with the correlation value.\n"
      ]
    },
    {
      "cell_type": "code",
      "execution_count": null,
      "id": "53a00bfa",
      "metadata": {
        "id": "53a00bfa"
      },
      "outputs": [],
      "source": [
        "# Get correlation matrix of the seasonality_df DataFrame\n",
        "seasonality_corr = seasonality_df.corr(method='spearman')\n",
        "\n",
        "# Customize the clustermap of the seasonality_corr correlation matrix\n",
        "fig = sns.clustermap(seasonality_corr, annot=True, annot_kws={'size': 4}, linewidths=.4, figsize=(15, 10))\n",
        "plt.setp(fig.ax_heatmap.yaxis.get_majorticklabels(), rotation=0)\n",
        "plt.setp(fig.ax_heatmap.xaxis.get_majorticklabels(), rotation=90)\n",
        "plt.show()\n",
        "\n",
        "# Print the correlation between the seasonalities of the Government and Education & Health industries\n",
        "print(0.89)"
      ]
    }
  ],
  "metadata": {
    "colab": {
      "provenance": []
    }
  },
  "nbformat": 4,
  "nbformat_minor": 5
}